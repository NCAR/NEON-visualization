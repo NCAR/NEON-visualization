{
 "cells": [
  {
   "cell_type": "markdown",
   "metadata": {},
   "source": [
    "# CTSM Simulations at NEON Tower Sites -- Tutorial \n",
    "\n",
    "This is an introduction to running CLM at NEON tower sites.  It will guide you through the basics of running a simulation and provides basic visualization of the simulation results.  \n",
    "\n",
    "**NOTE: Each step must be followed in order, otherwise you may encounter errors**\n",
    "\n",
    "\n",
    "***"
   ]
  },
  {
   "cell_type": "markdown",
   "metadata": {},
   "source": [
    "<h2> 1. Set up and run a simulation</h2>\n",
    "\n",
    "In this tutorial, you will learn to run a CTSM model simulation for a NEON flux tower using meteorology observations from the tower. Many of the steps to run the model are condensed into a single function. If you would like to change any aspects of the model configuration, see [other tutorial] for additional instructions. <br>\n",
    "\n",
    "NEON towers available for simulation include:\n",
    "[List tower sites]\n",
    "\n",
    "The tutorial is set to use the ABBY site. If you would like to run a simulation for a different tower, select the NEON tower from the above options and then change the 4-character site name in quotes below.\n",
    "\n",
    "You will need to \"run\" the cell below. You can do this by clicking on the arrow (triangle?) in the menu bar above. "
   ]
  },
  {
   "cell_type": "code",
   "execution_count": 5,
   "metadata": {},
   "outputs": [],
   "source": [
    "#Change the 4-character NEON site below.\n",
    "site = 'ABBY'"
   ]
  },
  {
   "cell_type": "markdown",
   "metadata": {},
   "source": [
    "Running the model for a single tower location is much less computationally intensive than a global simulation, only requiring ~0.6GB of RAM (what should this # be?). The model will also need to download some data input files, totaling approximately 127MB (what should this # be?) of size.\n",
    "\n",
    "The command to create and run a NEON tower site simulation is given below, using the NEON tower site you selected above.  \n",
    "\n",
    "The command runs a python script, run_neon.py\n",
    "This script creates, compiles, and runs a simulation for the tower site you specified above for all years that tower meteorology data are available.\n",
    "Note that this step downloads the input data required for the model simulation. It may take several minutes (should this be more specific?) to run, so please be patient. Many things will print to your screen. \n",
    "\n",
    "Run the cell to issue the command:"
   ]
  },
  {
   "cell_type": "code",
   "execution_count": 8,
   "metadata": {},
   "outputs": [
    {
     "name": "stdout",
     "output_type": "stream",
     "text": [
      "Traceback (most recent call last):\n",
      "  File \"/opt/ncar/cesm2/tools/site_and_regional/run_neon.py\", line 611, in <module>\n",
      "    main(__doc__) \n",
      "  File \"/opt/ncar/cesm2/tools/site_and_regional/run_neon.py\", line 582, in main\n",
      "    site_list, case_root, run_type, overwrite, run_length, base_case_root = get_parser(sys.argv, description, valid_neon_sites)\n",
      "  File \"/opt/ncar/cesm2/tools/site_and_regional/run_neon.py\", line 264, in get_parser\n",
      "    run_length = int(args.ad_length)\n",
      "AttributeError: 'Namespace' object has no attribute 'ad_length'\n"
     ]
    }
   ],
   "source": [
    "!/opt/ncar/cesm2/tools/site_and_regional/run_neon.py --neon-sites site --output-root ~/CLM-NEON"
   ]
  },
  {
   "cell_type": "markdown",
   "metadata": {},
   "source": [
    "<br><br>The last few lines above should look like this:\n",
    "\n",
    ">&nbsp;&nbsp;[text here]<br>\n",
    "[more text here]<br>\n",
    "[and even more!]\n",
    "\n",
    "\n",
    "If so, great!  You've created and run CTSM for a NEON tower location. Your simulation should have produced data, which we'll look at next.\n",
    "\n",
    "\n",
    "We'll cover more detail about setting up and modifying simulations in an upcoming tutorial, and additional information can also be found in CESM's online [documentation](https://escomp.github.io/CESM/release-cesm2/quickstart.html#create-a-case).\n",
    "(Should we point to CTSM documentation here? Other tutorials? What else will people want to know)\n",
    "<br><br>\n",
    "\n",
    "***"
   ]
  },
  {
   "cell_type": "markdown",
   "metadata": {},
   "source": [
    "If you would like to see additional and more advanced options for running NEON tower site simulations, many are listed in the script using the following command\n",
    "Include some explanations (what is spinup, etc.)"
   ]
  },
  {
   "cell_type": "code",
   "execution_count": 9,
   "metadata": {},
   "outputs": [
    {
     "name": "stdout",
     "output_type": "stream",
     "text": [
      "usage: run_neon.py [-h] [-d] [-v] [-s]\n",
      "                   [--neon-sites {ABBY,DSNY,SOAP,GUAN,BLAN,KONA,DELA,BONA,TEAK,LAJA,HARV,NOGP,MOAB,UNDE,OAES,DEJU,SERC,WOOD,YELL,KONZ,ORNL,SCBI,TOOL,SJER,TALL,STEI,CLBJ,RMNP,OSBS,SRER,JERC,BARR,GRSM,UKFS,JORN,LENO,TREE,HEAL,MLBS,NIWO,PUUM,STER,ONAQ,CPER,BART,WREF,DCFS,all} [{ABBY,DSNY,SOAP,GUAN,BLAN,KONA,DELA,BONA,TEAK,LAJA,HARV,NOGP,MOAB,UNDE,OAES,DEJU,SERC,WOOD,YELL,KONZ,ORNL,SCBI,TOOL,SJER,TALL,STEI,CLBJ,RMNP,OSBS,SRER,JERC,BARR,GRSM,UKFS,JORN,LENO,TREE,HEAL,MLBS,NIWO,PUUM,STER,ONAQ,CPER,BART,WREF,DCFS,all} ...]]\n",
      "                   [--base-case BASE_CASE_ROOT] [--case-root CASE_ROOT]\n",
      "                   [--overwrite]\n",
      "                   {ad,postad,transient,sasu} ...\n",
      "\n",
      "|------------------------------------------------------------------|\n",
      "|---------------------  Instructions  -----------------------------|\n",
      "|------------------------------------------------------------------|\n",
      "This is a wrapper script for running CTSM simulation for one or more\n",
      "neon sites. \n",
      "\n",
      "This script is only for neon site and we will develop a more general\n",
      "code later.\n",
      "\n",
      "This script first creates and builds a generic base case. \n",
      "Next, it will clone the base_case for different neon sites and run\n",
      "types to reduce the need to build ctsm everytime. \n",
      "\n",
      "This script will do the following:\n",
      "    1) Create a generic base case for cloning. \n",
      "    2) Make the case for the specific neon site(s).\n",
      "    3) Make changes to the case, for:\n",
      "        a. AD spinup\n",
      "\t    b. post-AD spinup\n",
      "        c. transient\n",
      "    \t#---------------\n",
      "    \td. SASU or Matrix spinup\n",
      "    4) Build and submit the case.\n",
      " \n",
      "-------------------------------------------------------------------\n",
      "Instructions for running on Cheyenne/Casper:\n",
      " \n",
      "load the following into your local environment\n",
      "    module load python\n",
      "    ncar_pylib\n",
      " \n",
      "To remove NPL from your environment on Cheyenne/Casper:\n",
      "    deactivate\n",
      " \n",
      "-------------------------------------------------------------------\n",
      "To see the available options:\n",
      "    ./run_neon.py --help\n",
      "-------------------------------------------------------------------\n",
      "\n",
      "positional arguments:\n",
      "  {ad,postad,transient,sasu}\n",
      "                        Four different ways to run this script.\n",
      "    ad                  AD spin-up options\n",
      "    postad              Post-AD spin-up options\n",
      "    transient           Transient spin-up options\n",
      "    sasu                Sasu spin-up options --not in CTSM yet\n",
      "\n",
      "optional arguments:\n",
      "  -h, --help            show this help message and exit\n",
      "  -d, --debug           Print debug information (very verbose) to file\n",
      "                        /home/user/tutorials/CESM/run_neon.py.log\n",
      "  -v, --verbose         Add additional context (time and file) to log messages\n",
      "  -s, --silent          Print only warnings and error messages\n",
      "  --neon-sites {ABBY,DSNY,SOAP,GUAN,BLAN,KONA,DELA,BONA,TEAK,LAJA,HARV,NOGP,MOAB,UNDE,OAES,DEJU,SERC,WOOD,YELL,KONZ,ORNL,SCBI,TOOL,SJER,TALL,STEI,CLBJ,RMNP,OSBS,SRER,JERC,BARR,GRSM,UKFS,JORN,LENO,TREE,HEAL,MLBS,NIWO,PUUM,STER,ONAQ,CPER,BART,WREF,DCFS,all} [{ABBY,DSNY,SOAP,GUAN,BLAN,KONA,DELA,BONA,TEAK,LAJA,HARV,NOGP,MOAB,UNDE,OAES,DEJU,SERC,WOOD,YELL,KONZ,ORNL,SCBI,TOOL,SJER,TALL,STEI,CLBJ,RMNP,OSBS,SRER,JERC,BARR,GRSM,UKFS,JORN,LENO,TREE,HEAL,MLBS,NIWO,PUUM,STER,ONAQ,CPER,BART,WREF,DCFS,all} ...]\n",
      "                        4-letter neon site code.\n",
      "  --base-case BASE_CASE_ROOT\n",
      "                        Root Directory of base case build [default: None]\n",
      "  --case-root CASE_ROOT\n",
      "                        Root Directory of cases [default: CIME_OUTPUT_ROOT as\n",
      "                        defined in cime]\n",
      "  --overwrite           overwrite existing case directories [default: False]\n"
     ]
    }
   ],
   "source": [
    "!/opt/ncar/cesm2/tools/site_and_regional/run_neon.py --help"
   ]
  },
  {
   "cell_type": "markdown",
   "metadata": {},
   "source": [
    "<h2> 2. Visualize the output </h2>\n",
    "\n",
    "Now that your simulation completed, let's take a quick look at the data. \n",
    "\n",
    "Visualization in Jupyter Notebooks is a huge topic, and there are countless ways of analyzing and processing model data. Since this is a 'quickstart' tutorial, we're going to use an existing function provided by the 'cesm' python package.  \n",
    "\n",
    "We will focus on \n",
    "\n",
    "More advanced visualizations are available in other tutorial lessons.\n",
    "\n",
    "If you are interested in exploring the available data, you can find it here:"
   ]
  },
  {
   "cell_type": "code",
   "execution_count": 10,
   "metadata": {},
   "outputs": [
    {
     "name": "stdout",
     "output_type": "stream",
     "text": [
      "ls: cannot access 'archive/lnd/hist': No such file or directory\n"
     ]
    }
   ],
   "source": [
    "!ls ~/archive/lnd/hist"
   ]
  },
  {
   "cell_type": "code",
   "execution_count": null,
   "metadata": {},
   "outputs": [],
   "source": []
  },
  {
   "cell_type": "code",
   "execution_count": null,
   "metadata": {},
   "outputs": [],
   "source": []
  },
  {
   "cell_type": "code",
   "execution_count": null,
   "metadata": {},
   "outputs": [],
   "source": []
  },
  {
   "cell_type": "markdown",
   "metadata": {},
   "source": [
    "Help for Danica:\n",
    "Markdown: https://www.markdownguide.org/basic-syntax/\n",
    "https://www.markdownguide.org/assets/markdown-guide-sample.pdf"
   ]
  },
  {
   "cell_type": "markdown",
   "metadata": {},
   "source": [
    "### Below is from Brian's tutorial. Might not use"
   ]
  },
  {
   "cell_type": "code",
   "execution_count": null,
   "metadata": {},
   "outputs": [],
   "source": []
  },
  {
   "cell_type": "code",
   "execution_count": null,
   "metadata": {},
   "outputs": [],
   "source": []
  },
  {
   "cell_type": "markdown",
   "metadata": {},
   "source": [
    "<h2> 2. Modifying a CESM case</h2>\n",
    "\n",
    "Now let's make a simple modification to the case via two easy steps:\n",
    "\n",
    "1. Change to our new case directory\n",
    "2. In that directory, change the duration of the run (in model-time)\n",
    "\n",
    "\n",
    "These changes can be made via modifying the XML files that control CESM's behavior.  We could do this by hand, but the preferred way of doing it is to use the 'xmlchange' command in the case directory.  By default, newly configured cases are set up to run for 5 model days - since we're just experimenting, we'll change it to 3 model days instead, for even faster runs.  Run the following cells to execute the two commands:\n",
    "<br>\n",
    "<br>"
   ]
  },
  {
   "cell_type": "code",
   "execution_count": null,
   "metadata": {},
   "outputs": [],
   "source": [
    "cd ~/quickstart_case"
   ]
  },
  {
   "cell_type": "code",
   "execution_count": null,
   "metadata": {},
   "outputs": [],
   "source": [
    "xmlchange STOP_OPTION=ndays,STOP_N=3"
   ]
  },
  {
   "cell_type": "markdown",
   "metadata": {},
   "source": [
    "Since the default STOP_OPTION is already 'ndays', it wasn't strictly necessary to include that in the command, but by being explicit we avoid any confusion later if we had changed it previously to 'nhours' or 'nyears'. \n",
    "\n",
    "We don't see any output by 'xmlchange', but we can use another tool, 'xmlquery', to double-check that we have the new values:"
   ]
  },
  {
   "cell_type": "code",
   "execution_count": null,
   "metadata": {},
   "outputs": [],
   "source": [
    "xmlquery STOP_OPTION,STOP_N"
   ]
  },
  {
   "cell_type": "markdown",
   "metadata": {},
   "source": [
    "<br><br>Great!  You've now used the 'xmlchange' utility to modify the model's behavior, setting it up to run for 3 model days.  You can do a lot more with 'xmlchange', and we'll cover some of these in another tutorial later, and additional information can also be found in CESM's online [documentation](http://esmci.github.io/cime/versions/master/html/Tools_user/xmlchange.html)\n",
    "<br><br>\n",
    "\n",
    "***"
   ]
  },
  {
   "cell_type": "markdown",
   "metadata": {},
   "source": [
    "<h2> 3. Setting up the case</h2>\n",
    "\n",
    "The next step in running CESM is to 'setup' the case - this is done by running case.setup in the case directory.  This command sets up some user-customizable name lists that control the model's behavior, creates the directory where the run happens, and configures additional settings used in building the model.  \n",
    "\n",
    "Run the cell to issue the command:"
   ]
  },
  {
   "cell_type": "code",
   "execution_count": null,
   "metadata": {},
   "outputs": [],
   "source": [
    "case.setup"
   ]
  },
  {
   "cell_type": "markdown",
   "metadata": {},
   "source": [
    "<br><br>Great!  You've now used the 'case.setup' command to set up your case.  As the output says, you can now use the 'preview_run' command to get additional information if needed, but it's not necessary.  You can also read CESM's online documentation on [case.setup](http://esmci.github.io/cime/versions/master/html/Tools_user/case.setup.html) for more information if you like.<br><br>\n",
    "\n",
    "***"
   ]
  },
  {
   "cell_type": "markdown",
   "metadata": {},
   "source": [
    "<h2> 4. Building the case</h2>\n",
    "\n",
    "CESM supports a wide variety of configurations, including different components, physics options and source modifications, and the executable code you get is dependent on each of these, so it requires that cases be *compiled*.  The container includes all the necessary libraries and compilers, and the 'create_newcase' and 'case.setup' commands have configured everything we need, so this is a simple process on supported machines -- we just run the 'case.build' command in the cell below.\n",
    "\n",
    "Be aware that this can take a few minutes - how long depends upon the type of system you have, but estimates are ~3-6 minutes"
   ]
  },
  {
   "cell_type": "code",
   "execution_count": null,
   "metadata": {},
   "outputs": [],
   "source": [
    "case.build"
   ]
  },
  {
   "cell_type": "markdown",
   "metadata": {},
   "source": [
    "<br><br>\n",
    "Again, this will take a few minutes.  You'll know this is complete when you see the line:\n",
    "\n",
    ">&nbsp;MODEL BUILD HAS FINISHED SUCCESSFULLY\n",
    "\n",
    "If you see that, fantastic!  You've built your first CESM case!  Now we can move on to the final step of performing a simulation.<br><br>\n",
    "\n",
    "***"
   ]
  },
  {
   "cell_type": "markdown",
   "metadata": {},
   "source": [
    "<h2> 5. Running your case</h2>\n",
    "\n",
    "Running a case is also simple - we just issue the 'case.submit' command.  This will start by checking that we have all of the necessary input data for our run, and downloading whatever is missing, and then it will perform the actual simulation - which we've configured to run for 3 model days.\n",
    "\n",
    "How long the run takes, like the build, depends heavily on the type of processor you have, and how many cores it has.  Expect this to take from 1-3 minutes after the data download is finished."
   ]
  },
  {
   "cell_type": "code",
   "execution_count": null,
   "metadata": {},
   "outputs": [],
   "source": [
    "case.submit"
   ]
  },
  {
   "cell_type": "markdown",
   "metadata": {},
   "source": [
    "<br><br>When this step finishes, the run will complete, then the 'archive' script will execute.  You will see a few warning messages about 'No such variable' - these are normal, and can be ignored.  The final lines should look like:\n",
    "\n",
    ">Submitted job case.run with id None<br>\n",
    "Submitted job case.st_archive with id None\n",
    "\n",
    "\n",
    "If you see those, congratulations!  You've run your first case -- there's a *lot* of text shown above, and we'll cover it in more detail in another tutorial, and more information can also be found in the [documentation](https://escomp.github.io/CESM/versions/cesm2.2/html/quickstart.html#run-the-case).<br><br>\n",
    "\n",
    "***"
   ]
  },
  {
   "cell_type": "markdown",
   "metadata": {},
   "source": [
    "<h2> 6.  Continuing a run </h2>\n",
    "\n",
    "We've run our case for three model days as an initial test, but now let's go back and *continue* that run for 28 more days so we have a full month of output.  This is better for estimating performance, *and* will give us a monthly history output file that we can use to visualize results.\n",
    "\n",
    "To do this, we'll use the 'xmlchange' utility to tell CESM to continue the run, and to set the number of days for the new run to 28.  Then we'll call 'case.submit' again.  Since we're running 9.3x longer (28 days vs. 3), we should expect this to take roughly 9.3x longer.  Enter the commands below, then grab a cup of coffee as the model runs!"
   ]
  },
  {
   "cell_type": "code",
   "execution_count": null,
   "metadata": {},
   "outputs": [],
   "source": [
    "xmlchange CONTINUE_RUN=true,STOP_N=28"
   ]
  },
  {
   "cell_type": "code",
   "execution_count": null,
   "metadata": {},
   "outputs": [],
   "source": [
    "case.submit"
   ]
  },
  {
   "cell_type": "markdown",
   "metadata": {},
   "source": [
    "<br><br>Excellent - you'll notice that this time the output was a little less, since it didn't need to download any new input data.  We're just continuing a run that we have all the input data for.<br><br>\n",
    "\n",
    "***"
   ]
  },
  {
   "cell_type": "markdown",
   "metadata": {},
   "source": [
    "<h2> 6. Visualize the output </h2>\n",
    "\n",
    "As a final step, let's take a quick look at visualizing our output.  Visualization in Jupyter Notebooks is a huge topic, and there are countless ways of analyzing and processing CESM's output.  Since this is a 'quickstart' tutorial, we're going to use an existing function provided by the 'cesm' python package.  This function, 'QuickView', takes the name of a case and one of several variables -'T' (temperature) in this case- and plots the variable with a global overlay for the lowest vertical level of the model.  We'll look at more advanced visualizations in other tutorial lessons."
   ]
  },
  {
   "cell_type": "code",
   "execution_count": null,
   "metadata": {},
   "outputs": [],
   "source": [
    "from cesm import QuickView\n",
    "QuickView('quickstart_case', 'T')"
   ]
  },
  {
   "cell_type": "markdown",
   "metadata": {},
   "source": [
    "And we can do a plot of 'U' just as easily:"
   ]
  },
  {
   "cell_type": "code",
   "execution_count": null,
   "metadata": {},
   "outputs": [],
   "source": [
    "QuickView('quickstart_case', 'U')"
   ]
  },
  {
   "cell_type": "markdown",
   "metadata": {},
   "source": [
    "<br><br>Congratulations - you've walked through the basic steps of using CESM : creating a case, setting it up, building it, running it, and visualizing the output.  You're all set for some of the more advanced tutorials now. "
   ]
  }
 ],
 "metadata": {
  "kernelspec": {
   "display_name": "Python [conda env:default] *",
   "language": "python",
   "name": "conda-env-default-py"
  },
  "language_info": {
   "codemirror_mode": {
    "name": "ipython",
    "version": 3
   },
   "file_extension": ".py",
   "mimetype": "text/x-python",
   "name": "python",
   "nbconvert_exporter": "python",
   "pygments_lexer": "ipython3",
   "version": "3.7.8"
  }
 },
 "nbformat": 4,
 "nbformat_minor": 4
}
