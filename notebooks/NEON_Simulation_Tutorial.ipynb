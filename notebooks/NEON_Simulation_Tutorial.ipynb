{
 "cells": [
  {
   "cell_type": "markdown",
   "metadata": {},
   "source": [
    "# CTSM Simulations at NEON Tower Sites -- Tutorial \n",
    "\n",
    "This tutorial is an introduction to running the Community Terrestrial Systems Model (CTSM) at NEON tower sites.  It will guide you through running a simulation and provides example visualization of the simulation results.\n",
    "\n",
    "There are several configuration options of CTSM, and throughout this tutorial we will use the Community Land Model, CLM, configuration which is the climate and biogeochemistry mode of CTSM. Throughout the rest of this tutorial, we refer to the model as CLM version 5.1 (CLM5.1-BGC).\n",
    "***"
   ]
  },
  {
   "cell_type": "markdown",
   "metadata": {},
   "source": [
    "## In this tutorial\n",
    "\n",
    "The tutorial has several components. Below you will find steps to: \n",
    "1. Set up and run a simulation\n",
    "2. Explore CLM model data\n",
    "3. Explore NEON observation data\n",
    "4. Compare CLM and NEON latent heat flux data\n",
    "\n",
    "Note that step 1 is the necessary step to run the simulation. If you would like to use this tutorial to explore the available data, please continue with steps 2-4."
   ]
  },
  {
   "cell_type": "markdown",
   "metadata": {},
   "source": [
    "***\n",
    "**The tutorial uses a Jupyter Notebook.** A Jupyter Notebook is an interactive computing environment that enables the creation and sharing of documents that contain discrete cells of text or documentation and executable code, including plots. It allows users to access, run, and edit the code in a browser. To interact with this notebook:\n",
    "\n",
    "- Execute or \"run\" cells of executable code (cells denoted with '[ ]:') using the play button in the menu at the top (see below image)\n",
    "\n",
    "- The results of running code, such as plots, will appear below that cell\n",
    "\n",
    "- Each step must be followed in order, otherwise you may encounter errors\n",
    "\n",
    "![run cell](https://problemsolvingwithpython.com/02-Jupyter-Notebooks/images/run_cell.png)\n",
    "\n",
    "For more information on Jupyter notebooks please see their [user guide](https://jupyter-notebook-beginner-guide.readthedocs.io/en/latest/what_is_jupyter.html). \n",
    "***"
   ]
  },
  {
   "cell_type": "markdown",
   "metadata": {},
   "source": [
    "<h2> 1. Set up and run a simulation</h2>\n",
    "\n",
    "*This step guides you through running a CLM model simulation for a NEON flux tower using meteorology observations from the tower. Here, the many steps to run CLM are condensed into a single function. If you would like a more advanced tutorial to change the model configuration or code, please see [tutorial not yet available] for additional instructions.* <br>\n",
    "\n",
    "***\n",
    "<h4>1.1 Select a NEON tower site to simulate.</h4>\n",
    "\n",
    "NEON towers available for simulation include:  \n",
    "\n",
    ">ABBY, BART, BLAN, CPER, DCFS, DSNY, GRSM, HARV, JERC, JORN, KONZ, MOAB, NOGP, OAES, ORNL, OSBS, SCBI, SERC, SOAP, SRER, STEI, TALL, TREE, UKFS, UNDE, WOOD.  \n",
    "\n",
    "The [NEON website](https://www.neonscience.org/field-sites/explore-field-sites) describes tower sites in more detail.\n",
    "\n",
    "Before running the below code, keep in mind:\n",
    "- The executable code below selects the **ABBY** site for simulation. If you would like to simulate a different tower, select the NEON tower from the above list and change the 4-character site name inside the quotes below.\n",
    "- The site must be defined correctly so you do not get an error in the next step.\n",
    "    - use all capital letters \n",
    "    - double-check that the letters match one of the above site names\n",
    "\n",
    "*Execute the the cell below by clicking on the play button in the menu bar above.*"
   ]
  },
  {
   "cell_type": "code",
   "execution_count": 37,
   "metadata": {},
   "outputs": [],
   "source": [
    "#Change the 4-character NEON site below.\n",
    "neon_site = \"ABBY\"\n",
    "\n",
    "import os\n",
    "os.environ['site'] = neon_site"
   ]
  },
  {
   "cell_type": "markdown",
   "metadata": {},
   "source": [
    "***\n",
    "<h4>1.2 Create and run a NEON tower site simulation.</h4>  \n",
    "\n",
    "The executable code below runs a python script, run_neon.py. This script\n",
    "\n",
    "* creates (`create_newcase`)\n",
    "* sets up (`case.setup`)\n",
    "* compiles (`case.build`)\n",
    "* runs (`case.submit`)\n",
    "    \n",
    "a simulation for the tower site you specified above for all years that tower meteorology data are available.\n",
    "\n",
    "*Run the cell below. Note that this step downloads the input data (~7GB) required for the model simulation. It may take several minutes to run, so please be patient. Many things will print below the cell as data are downloaded and the model compiles.* "
   ]
  },
  {
   "cell_type": "code",
   "execution_count": null,
   "metadata": {},
   "outputs": [],
   "source": [
    "run_neon --neon-sites $site --output-root ~/CLM-NEON #>& run_neon.log"
   ]
  },
  {
   "cell_type": "markdown",
   "metadata": {},
   "source": [
    "<br><br>You might see lines print that say 'ERROR 404: Not Found' and this is ok. You will also likely notice that many files are moved after the simulation completes. The model is done running when you see: \n",
    "\n",
    ">st_archive completed <br>\n",
    ">Submitted job case.run with id None <br>\n",
    ">Submitted job case.st_archive with id None <br>\n",
    "\n",
    "\n",
    "If you see this message, great! You've created and run CTSM for the NEON tower you selected, and we'll look at simulation data next.\n",
    "\n",
    "**Note** that you can also run the above line of code in your terminal shell but you will need to point to the location of the file:\n",
    "`/opt/ncar/cesm2/tools/site_and_regional/run_neon.py --neon-sites <site> --output-root <path>`\n",
    "\n",
    "More details about setting up and modifying simulations will be available in an upcoming tutorial. \n",
    "\n",
    "Additional information about CLM is available [on the website](https://www.cesm.ucar.edu/models/cesm2/land/), including [technical documentation](https://escomp.github.io/ctsm-docs/versions/release-clm5.0/html/tech_note/index.html), a [user's guide](https://escomp.github.io/ctsm-docs/versions/release-clm5.0/html/users_guide/index.html), and a [quickstart guide](https://escomp.github.io/CESM/release-cesm2/quickstart.html#create-a-case) to running other model configurations.\n",
    "<br><br>\n",
    "***"
   ]
  },
  {
   "cell_type": "markdown",
   "metadata": {},
   "source": [
    "<h4> Optional </h4>\n",
    "\n",
    "If you would like to see additional and more advanced options for running NEON tower site simulations, many are listed in the python script you just executed using a `--help` option. <p>\n",
    "\n",
    "*Executing the below cell is optional and will print options available options in the `run_neon` python script*:"
   ]
  },
  {
   "cell_type": "code",
   "execution_count": 6,
   "metadata": {
    "collapsed": true,
    "jupyter": {
     "outputs_hidden": true
    }
   },
   "outputs": [
    {
     "name": "stdout",
     "output_type": "stream",
     "text": [
      "usage: run_neon.py [-h] [-d] [-v] [-s]\n",
      "                   [--neon-sites {ABBY,BARR,BART,BLAN,BONA,CLBJ,CPER,DCFS,DEJU,DELA,DSNY,GRSM,GUAN,HARV,HEAL,JERC,JORN,KONA,KONZ,LAJA,LENO,MLBS,MOAB,NIWO,NOGP,OAES,ONAQ,ORNL,OSBS,PUUM,RMNP,SCBI,SERC,SJER,SOAP,SRER,STEI,STER,TALL,TEAK,TOOL,TREE,UKFS,UNDE,WOOD,WREF,YELL,all} [{ABBY,BARR,BART,BLAN,BONA,CLBJ,CPER,DCFS,DEJU,DELA,DSNY,GRSM,GUAN,HARV,HEAL,JERC,JORN,KONA,KONZ,LAJA,LENO,MLBS,MOAB,NIWO,NOGP,OAES,ONAQ,ORNL,OSBS,PUUM,RMNP,SCBI,SERC,SJER,SOAP,SRER,STEI,STER,TALL,TEAK,TOOL,TREE,UKFS,UNDE,WOOD,WREF,YELL,all} ...]]\n",
      "                   [--base-case BASE_CASE_ROOT] [--output-root OUTPUT_ROOT]\n",
      "                   [--overwrite] [--setup-only] [--rerun] [--no-batch]\n",
      "                   [--run-type {ad,postad,transient,sasu}]\n",
      "                   [--run-length RUN_LENGTH] [--start-date START_DATE]\n",
      "                   [--end-date END_DATE] [--run-from-postad]\n",
      "\n",
      "|------------------------------------------------------------------|\n",
      "|---------------------  Instructions  -----------------------------|\n",
      "|------------------------------------------------------------------|\n",
      "This is a wrapper script for running CTSM simulation for one or more\n",
      "neon sites. \n",
      "\n",
      "This script is only for neon site and we will develop a more general\n",
      "code later.\n",
      "\n",
      "This script first creates and builds a generic base case. \n",
      "Next, it will clone the base_case for different neon sites and run\n",
      "types to reduce the need to build ctsm everytime. \n",
      "\n",
      "This script will do the following:\n",
      "    1) Create a generic base case for cloning. \n",
      "    2) Make the case for the specific neon site(s).\n",
      "    3) Make changes to the case, for:\n",
      "        a. AD spinup\n",
      "\tb. post-AD spinup\n",
      "        c. transient\n",
      "    \t#---------------\n",
      "    \td. SASU or Matrix spinup\n",
      "    4) Build and submit the case.\n",
      " \n",
      "-------------------------------------------------------------------\n",
      "Instructions for running on Cheyenne/Casper:\n",
      " \n",
      "load the following into your local environment\n",
      "    module load python\n",
      "    ncar_pylib\n",
      " \n",
      "To remove NPL from your environment on Cheyenne/Casper:\n",
      "    deactivate\n",
      " \n",
      "-------------------------------------------------------------------\n",
      "To see the available options:\n",
      "    ./run_neon.py --help\n",
      "-------------------------------------------------------------------\n",
      "\n",
      "optional arguments:\n",
      "  -h, --help            show this help message and exit\n",
      "  -d, --debug           Print debug information (very verbose) to file /home/u\n",
      "                        ser/CESM_Lab/tutorials/notebooks/run_neon.py.log\n",
      "  -v, --verbose         Add additional context (time and file) to log messages\n",
      "  -s, --silent          Print only warnings and error messages\n",
      "  --neon-sites {ABBY,BARR,BART,BLAN,BONA,CLBJ,CPER,DCFS,DEJU,DELA,DSNY,GRSM,GUAN,HARV,HEAL,JERC,JORN,KONA,KONZ,LAJA,LENO,MLBS,MOAB,NIWO,NOGP,OAES,ONAQ,ORNL,OSBS,PUUM,RMNP,SCBI,SERC,SJER,SOAP,SRER,STEI,STER,TALL,TEAK,TOOL,TREE,UKFS,UNDE,WOOD,WREF,YELL,all} [{ABBY,BARR,BART,BLAN,BONA,CLBJ,CPER,DCFS,DEJU,DELA,DSNY,GRSM,GUAN,HARV,HEAL,JERC,JORN,KONA,KONZ,LAJA,LENO,MLBS,MOAB,NIWO,NOGP,OAES,ONAQ,ORNL,OSBS,PUUM,RMNP,SCBI,SERC,SJER,SOAP,SRER,STEI,STER,TALL,TEAK,TOOL,TREE,UKFS,UNDE,WOOD,WREF,YELL,all} ...]\n",
      "                        4-letter neon site code.\n",
      "  --base-case BASE_CASE_ROOT\n",
      "                        Root Directory of base case build [default: None]\n",
      "  --output-root OUTPUT_ROOT\n",
      "                        Root output directory of cases [default:\n",
      "                        CIME_OUTPUT_ROOT as defined in cime]\n",
      "  --overwrite           overwrite existing case directories [default: False]\n",
      "  --setup-only          Only setup the requested cases, do not build or run\n",
      "                        [default: False]\n",
      "  --rerun               If the case exists but does not appear to be complete,\n",
      "                        restart it. [default: False]\n",
      "  --no-batch            Run locally, do not use batch queueing system (if\n",
      "                        defined for Machine) [default: False]\n",
      "  --run-type {ad,postad,transient,sasu}\n",
      "                        Type of run to do [default: transient]\n",
      "  --run-length RUN_LENGTH\n",
      "                        How long to run (modified ISO 8601 duration) [default:\n",
      "                        0Y]\n",
      "  --start-date START_DATE\n",
      "                        Start date for running CTSM simulation in ISO format.\n",
      "                        [default: 2018-01-01 00:00:00]\n",
      "  --end-date END_DATE   End date for running CTSM simulation in ISO format.\n",
      "                        [default: 2021-01-01 00:00:00]\n",
      "  --run-from-postad     For transient runs only - should we start from the\n",
      "                        postad spinup or finidat? By default start from\n",
      "                        finidat, if this flag is used the postad run must be\n",
      "                        available.\n"
     ]
    }
   ],
   "source": [
    "run_neon --help"
   ]
  },
  {
   "cell_type": "markdown",
   "metadata": {},
   "source": [
    "________\n",
    "<h2> 2. Explore CTSM model data </h2>\n",
    "\n",
    "Now that your simulation completed, we can explore the data.\n",
    "There are countless ways of analyzing and processing model data. This tutorial uses matplotlib. \n",
    "***"
   ]
  },
  {
   "cell_type": "markdown",
   "metadata": {},
   "source": [
    "<h4> 2.1 Locate model data </h4>\n",
    "When the simulation completed, the data are transferred to the `archive` directory. There are files that include data for every day of the simulation, as well as files that average model variables monthly. <p>\n",
    "\n",
    "*Run the code below to see a subset of the files listed.*"
   ]
  },
  {
   "cell_type": "code",
   "execution_count": 38,
   "metadata": {},
   "outputs": [
    {
     "name": "stdout",
     "output_type": "stream",
     "text": [
      "/home/user/archive/ABBY.transient/lnd/hist/ABBY.transient.clm2.h0.2018-01.nc\n",
      "/home/user/archive/ABBY.transient/lnd/hist/ABBY.transient.clm2.h0.2018-02.nc\n",
      "/home/user/archive/ABBY.transient/lnd/hist/ABBY.transient.clm2.h0.2018-03.nc\n",
      "/home/user/archive/ABBY.transient/lnd/hist/ABBY.transient.clm2.h0.2018-04.nc\n",
      "/home/user/archive/ABBY.transient/lnd/hist/ABBY.transient.clm2.h0.2018-05.nc\n",
      "/home/user/archive/ABBY.transient/lnd/hist/ABBY.transient.clm2.h0.2018-06.nc\n",
      "/home/user/archive/ABBY.transient/lnd/hist/ABBY.transient.clm2.h0.2018-07.nc\n",
      "/home/user/archive/ABBY.transient/lnd/hist/ABBY.transient.clm2.h0.2018-08.nc\n",
      "/home/user/archive/ABBY.transient/lnd/hist/ABBY.transient.clm2.h0.2018-09.nc\n",
      "/home/user/archive/ABBY.transient/lnd/hist/ABBY.transient.clm2.h0.2018-10.nc\n",
      "/home/user/archive/ABBY.transient/lnd/hist/ABBY.transient.clm2.h0.2018-11.nc\n",
      "/home/user/archive/ABBY.transient/lnd/hist/ABBY.transient.clm2.h0.2018-12.nc\n",
      "/home/user/archive/ABBY.transient/lnd/hist/ABBY.transient.clm2.h1.2018-01-01-00000.nc\n",
      "/home/user/archive/ABBY.transient/lnd/hist/ABBY.transient.clm2.h1.2018-01-02-00000.nc\n",
      "/home/user/archive/ABBY.transient/lnd/hist/ABBY.transient.clm2.h1.2018-01-03-00000.nc\n",
      "/home/user/archive/ABBY.transient/lnd/hist/ABBY.transient.clm2.h1.2018-01-04-00000.nc\n",
      "/home/user/archive/ABBY.transient/lnd/hist/ABBY.transient.clm2.h1.2018-01-05-00000.nc\n",
      "/home/user/archive/ABBY.transient/lnd/hist/ABBY.transient.clm2.h1.2018-01-06-00000.nc\n",
      "/home/user/archive/ABBY.transient/lnd/hist/ABBY.transient.clm2.h1.2018-01-07-00000.nc\n",
      "/home/user/archive/ABBY.transient/lnd/hist/ABBY.transient.clm2.h1.2018-01-08-00000.nc\n",
      "ls: write error: Broken pipe\n"
     ]
    }
   ],
   "source": [
    "!ls ~/archive/$site.transient/lnd/hist/*2018*.nc |head -20"
   ]
  },
  {
   "cell_type": "markdown",
   "metadata": {},
   "source": [
    "The list includes the file path and file names.\n",
    "\n",
    "The file names are automatically generated and include\n",
    "* the simulation name, which includes\n",
    "    * the NEON site\n",
    "    * the type of simulation (here the simulation is \"transient\", meaning the model ran for the full length of available data)\n",
    "* the date of simulated data\n",
    "\n",
    "The files are saved in netcdf format (denoted with the `.nc` file extension), a file format commonly used for storing large, multi-dimensional scientific variables.\n",
    "Netcdf files are platform independent and self-describing; each file includes metadata that describes the data, including: **variables**, **dimensions**, and **attributes**.\n",
    "\n",
    "The NEON tower simulations generate two types of files:\n",
    "* `*h0*`: Variables that are averaged monthly. One file is available for every month of the simulation.\n",
    "* `*h1*`: Variables that are recorded every 30 minutes. Values are aggregated into one file for each day of the simulation. Each file includes 48 data points.\n",
    "****\n"
   ]
  },
  {
   "cell_type": "markdown",
   "metadata": {},
   "source": [
    "<h4>2.2 Visualize the output </h4>\n",
    "Here let's take a quick look at our ouput and try visualizing it. \n",
    "\n",
    "Here we are going to use the existing function, `quick_soil_profile` to check the soil_profile . \n",
    "\n",
    "This function takes the simulation path and name of a case and one variable such as soil temperature `TSOI` in this case- and plots the soil profile with x-axis showing time and y-axis representing soil depth. \n",
    "\n",
    "We'll look at more advanced visualizations in the next tutorial lessons.\n"
   ]
  },
  {
   "cell_type": "code",
   "execution_count": 36,
   "metadata": {},
   "outputs": [
    {
     "name": "stdout",
     "output_type": "stream",
     "text": [
      "All Simulation files: [ 365 files]\n",
      "Reading all simulation files [ 365 files] took: 40.645915031433105 s.\n"
     ]
    },
    {
     "data": {
      "image/png": "[encoded data removed]",
      "text/plain": [
       "<Figure size 1080x360 with 2 Axes>"
      ]
     },
     "metadata": {
      "needs_background": "light"
     },
     "output_type": "display_data"
    }
   ],
   "source": [
    "from neon_utils import quick_soil_profile\n",
    "\n",
    "sim_path = \"/home/user/archive/\"+neon_site+\".transient/lnd/hist/\"\n",
    "case_name = neon_site+\".transient.clm2\"\n",
    "year = 2018\n",
    "\n",
    "quick_soil_profile(sim_path, case_name, 'TSOI', year)"
   ]
  },
  {
   "cell_type": "markdown",
   "metadata": {},
   "source": [
    "#### Congratulations! \n",
    "You have now completed a neon simulation and walked through the basic steps of a neon simulation.\n",
    "\n",
    "Please proceed to the next notebook for simple visualization and evaluation of your neon simulation against neon observation. \n"
   ]
  }
 ],
 "metadata": {
  "kernelspec": {
   "display_name": "Python [conda env:default] *",
   "language": "python",
   "name": "conda-env-default-py"
  },
  "language_info": {
   "codemirror_mode": {
    "name": "ipython",
    "version": 3
   },
   "file_extension": ".py",
   "mimetype": "text/x-python",
   "name": "python",
   "nbconvert_exporter": "python",
   "pygments_lexer": "ipython3",
   "version": "3.7.8"
  }
 },
 "nbformat": 4,
 "nbformat_minor": 4
}
