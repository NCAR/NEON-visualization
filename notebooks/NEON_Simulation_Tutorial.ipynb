{
 "cells": [
  {
   "cell_type": "markdown",
   "metadata": {},
   "source": [
    "# CTSM Simulations at NEON Tower Sites -- Tutorial \n",
    "\n",
    "This tutorial is an introduction to running the Community Terrestrial Systems Model (CTSM) at NEON tower sites.  It will guide you through running a simulation and provides example visualization of the simulation results.\n",
    "\n",
    "There are several configuration options of CTSM, and throughout this tutorial we will use the Community Land Model, CLM, configuration which is the climate and biogeochemistry mode of CTSM. Throughout the rest of this tutorial, we refer to the model as CLM version 5.1 (CLM5.1-BGC).\n",
    "***"
   ]
  },
  {
   "cell_type": "markdown",
   "metadata": {},
   "source": [
    "## In this tutorial\n",
    "\n",
    "The tutorial has several components. Below you will find steps to: \n",
    "1. Set up and run a simulation\n",
    "2. Explore CLM model data\n",
    "3. Explore NEON observation data\n",
    "4. Compare CLM and NEON latent heat flux data\n",
    "\n",
    "Note that step 1 is the necessary step to run the simulation. If you would like to use this tutorial to explore the available data, please continue with steps 2-4."
   ]
  },
  {
   "cell_type": "markdown",
   "metadata": {},
   "source": [
    "***\n",
    "**The tutorial uses a Jupyter Notebook.** A Jupyter Notebook is an interactive computing environment that enables the creation and sharing of documents that contain discrete cells of text or documentation and executable code, including plots. It allows users to access, run, and edit the code in a browser. To interact with this notebook:\n",
    "\n",
    "- Execute or \"run\" cells of executable code (cells denoted with '[ ]:') using the play button in the menu at the top (see below image)\n",
    "\n",
    "- The results of running code, such as plots, will appear below that cell\n",
    "\n",
    "- Each step must be followed in order, otherwise you may encounter errors\n",
    "\n",
    "![run cell](https://problemsolvingwithpython.com/02-Jupyter-Notebooks/images/run_cell.png)\n",
    "\n",
    "For more information on Jupyter notebooks please see their [user guide](https://jupyter-notebook-beginner-guide.readthedocs.io/en/latest/what_is_jupyter.html). \n",
    "***"
   ]
  },
  {
   "cell_type": "markdown",
   "metadata": {},
   "source": [
    "<h2> 1. Set up and run a simulation</h2>\n",
    "\n",
    "*This step guides you through running a CLM model simulation for a NEON flux tower using meteorology observations from the tower. Here, the many steps to run CLM are condensed into a single function. If you would like a more advanced tutorial to change the model configuration or code, please see [tutorial not yet available] for additional instructions.* <br>\n",
    "\n",
    "***\n",
    "<h4>1.1 Select a NEON tower site to simulate.</h4>\n",
    "\n",
    "NEON towers available for simulation include:  \n",
    "\n",
    ">ABBY, BART, BLAN, CPER, DCFS, DSNY, GRSM, HARV, JERC, JORN, KONZ, MOAB, NOGP, OAES, ORNL, OSBS, SCBI, SERC, SOAP, SRER, STEI, TALL, TREE, UKFS, UNDE, WOOD.  \n",
    "\n",
    "The [NEON website](https://www.neonscience.org/field-sites/explore-field-sites) describes tower sites in more detail.\n",
    "\n",
    "Before running the below code, keep in mind:\n",
    "- The executable code below selects the **ABBY** site for simulation. If you would like to simulate a different tower, select the NEON tower from the above list and change the 4-character site name inside the quotes below.\n",
    "- The site must be defined correctly so you do not get an error in the next step.\n",
    "    - use all capital letters \n",
    "    - double-check that the letters match one of the above site names\n",
    "\n",
    "*Execute the the cell below by clicking on the play button in the menu bar above.*"
   ]
  },
  {
   "cell_type": "code",
   "execution_count": 1,
   "metadata": {},
   "outputs": [],
   "source": [
    "#Change the 4-character NEON site below.\n",
    "import os\n",
    "os.environ['site'] = 'ABBY'"
   ]
  },
  {
   "cell_type": "markdown",
   "metadata": {},
   "source": [
    "***\n",
    "<h4>1.2 Create and run a NEON tower site simulation.</h4>  \n",
    "\n",
    "The executable code below runs a python script, run_neon.py. This script\n",
    "\n",
    "* creates (`create_newcase`)\n",
    "* sets up (`case.setup`)\n",
    "* compiles (`case.build`)\n",
    "* runs (`case.submit`)\n",
    "    \n",
    "a simulation for the tower site you specified above for all years that tower meteorology data are available.\n",
    "\n",
    "*Run the cell below. Note that this step downloads the input data (~7GB) required for the model simulation. It may take several minutes to run, so please be patient. Many things will print below the cell as data are downloaded and the model compiles.* "
   ]
  },
  {
   "cell_type": "code",
   "execution_count": null,
   "metadata": {},
   "outputs": [],
   "source": [
    "run_neon --neon-sites $site --output-root ~/CLM-NEON #>& run_neon.log"
   ]
  },
  {
   "cell_type": "markdown",
   "metadata": {},
   "source": [
    "<br><br>You might see lines print that say 'ERROR 404: Not Found' and this is ok. You will also likely notice that many files are moved after the simulation completes. The model is done running when you see: \n",
    "\n",
    ">st_archive completed <br>\n",
    ">Submitted job case.run with id None <br>\n",
    ">Submitted job case.st_archive with id None <br>\n",
    "\n",
    "\n",
    "If you see this message, great! You've created and run CTSM for the NEON tower you selected, and we'll look at simulation data next.\n",
    "\n",
    "**Note** that you can also run the above line of code in your terminal shell but you will need to point to the location of the file:\n",
    "`/opt/ncar/cesm2/tools/site_and_regional/run_neon.py --neon-sites <site> --output-root <path>`\n",
    "\n",
    "More details about setting up and modifying simulations will be available in an upcoming tutorial. \n",
    "\n",
    "Additional information about CLM is available [on the website](https://www.cesm.ucar.edu/models/cesm2/land/), including [technical documentation](https://escomp.github.io/ctsm-docs/versions/release-clm5.0/html/tech_note/index.html), a [user's guide](https://escomp.github.io/ctsm-docs/versions/release-clm5.0/html/users_guide/index.html), and a [quickstart guide](https://escomp.github.io/CESM/release-cesm2/quickstart.html#create-a-case) to running other model configurations.\n",
    "<br><br>\n",
    "***"
   ]
  },
  {
   "cell_type": "markdown",
   "metadata": {},
   "source": [
    "<h4> Optional </h4>\n",
    "\n",
    "If you would like to see additional and more advanced options for running NEON tower site simulations, many are listed in the python script you just executed using a `--help` option. <p>\n",
    "\n",
    "*Executing the below cell is optional and will print options available options in the `run_neon` python script*:"
   ]
  },
  {
   "cell_type": "code",
   "execution_count": 6,
   "metadata": {
    "collapsed": true,
    "jupyter": {
     "outputs_hidden": true
    }
   },
   "outputs": [
    {
     "name": "stdout",
     "output_type": "stream",
     "text": [
      "usage: run_neon.py [-h] [-d] [-v] [-s]\n",
      "                   [--neon-sites {ABBY,BARR,BART,BLAN,BONA,CLBJ,CPER,DCFS,DEJU,DELA,DSNY,GRSM,GUAN,HARV,HEAL,JERC,JORN,KONA,KONZ,LAJA,LENO,MLBS,MOAB,NIWO,NOGP,OAES,ONAQ,ORNL,OSBS,PUUM,RMNP,SCBI,SERC,SJER,SOAP,SRER,STEI,STER,TALL,TEAK,TOOL,TREE,UKFS,UNDE,WOOD,WREF,YELL,all} [{ABBY,BARR,BART,BLAN,BONA,CLBJ,CPER,DCFS,DEJU,DELA,DSNY,GRSM,GUAN,HARV,HEAL,JERC,JORN,KONA,KONZ,LAJA,LENO,MLBS,MOAB,NIWO,NOGP,OAES,ONAQ,ORNL,OSBS,PUUM,RMNP,SCBI,SERC,SJER,SOAP,SRER,STEI,STER,TALL,TEAK,TOOL,TREE,UKFS,UNDE,WOOD,WREF,YELL,all} ...]]\n",
      "                   [--base-case BASE_CASE_ROOT] [--output-root OUTPUT_ROOT]\n",
      "                   [--overwrite] [--setup-only] [--rerun] [--no-batch]\n",
      "                   [--run-type {ad,postad,transient,sasu}]\n",
      "                   [--run-length RUN_LENGTH] [--start-date START_DATE]\n",
      "                   [--end-date END_DATE] [--run-from-postad]\n",
      "\n",
      "|------------------------------------------------------------------|\n",
      "|---------------------  Instructions  -----------------------------|\n",
      "|------------------------------------------------------------------|\n",
      "This is a wrapper script for running CTSM simulation for one or more\n",
      "neon sites. \n",
      "\n",
      "This script is only for neon site and we will develop a more general\n",
      "code later.\n",
      "\n",
      "This script first creates and builds a generic base case. \n",
      "Next, it will clone the base_case for different neon sites and run\n",
      "types to reduce the need to build ctsm everytime. \n",
      "\n",
      "This script will do the following:\n",
      "    1) Create a generic base case for cloning. \n",
      "    2) Make the case for the specific neon site(s).\n",
      "    3) Make changes to the case, for:\n",
      "        a. AD spinup\n",
      "\tb. post-AD spinup\n",
      "        c. transient\n",
      "    \t#---------------\n",
      "    \td. SASU or Matrix spinup\n",
      "    4) Build and submit the case.\n",
      " \n",
      "-------------------------------------------------------------------\n",
      "Instructions for running on Cheyenne/Casper:\n",
      " \n",
      "load the following into your local environment\n",
      "    module load python\n",
      "    ncar_pylib\n",
      " \n",
      "To remove NPL from your environment on Cheyenne/Casper:\n",
      "    deactivate\n",
      " \n",
      "-------------------------------------------------------------------\n",
      "To see the available options:\n",
      "    ./run_neon.py --help\n",
      "-------------------------------------------------------------------\n",
      "\n",
      "optional arguments:\n",
      "  -h, --help            show this help message and exit\n",
      "  -d, --debug           Print debug information (very verbose) to file /home/u\n",
      "                        ser/CESM_Lab/tutorials/notebooks/run_neon.py.log\n",
      "  -v, --verbose         Add additional context (time and file) to log messages\n",
      "  -s, --silent          Print only warnings and error messages\n",
      "  --neon-sites {ABBY,BARR,BART,BLAN,BONA,CLBJ,CPER,DCFS,DEJU,DELA,DSNY,GRSM,GUAN,HARV,HEAL,JERC,JORN,KONA,KONZ,LAJA,LENO,MLBS,MOAB,NIWO,NOGP,OAES,ONAQ,ORNL,OSBS,PUUM,RMNP,SCBI,SERC,SJER,SOAP,SRER,STEI,STER,TALL,TEAK,TOOL,TREE,UKFS,UNDE,WOOD,WREF,YELL,all} [{ABBY,BARR,BART,BLAN,BONA,CLBJ,CPER,DCFS,DEJU,DELA,DSNY,GRSM,GUAN,HARV,HEAL,JERC,JORN,KONA,KONZ,LAJA,LENO,MLBS,MOAB,NIWO,NOGP,OAES,ONAQ,ORNL,OSBS,PUUM,RMNP,SCBI,SERC,SJER,SOAP,SRER,STEI,STER,TALL,TEAK,TOOL,TREE,UKFS,UNDE,WOOD,WREF,YELL,all} ...]\n",
      "                        4-letter neon site code.\n",
      "  --base-case BASE_CASE_ROOT\n",
      "                        Root Directory of base case build [default: None]\n",
      "  --output-root OUTPUT_ROOT\n",
      "                        Root output directory of cases [default:\n",
      "                        CIME_OUTPUT_ROOT as defined in cime]\n",
      "  --overwrite           overwrite existing case directories [default: False]\n",
      "  --setup-only          Only setup the requested cases, do not build or run\n",
      "                        [default: False]\n",
      "  --rerun               If the case exists but does not appear to be complete,\n",
      "                        restart it. [default: False]\n",
      "  --no-batch            Run locally, do not use batch queueing system (if\n",
      "                        defined for Machine) [default: False]\n",
      "  --run-type {ad,postad,transient,sasu}\n",
      "                        Type of run to do [default: transient]\n",
      "  --run-length RUN_LENGTH\n",
      "                        How long to run (modified ISO 8601 duration) [default:\n",
      "                        0Y]\n",
      "  --start-date START_DATE\n",
      "                        Start date for running CTSM simulation in ISO format.\n",
      "                        [default: 2018-01-01 00:00:00]\n",
      "  --end-date END_DATE   End date for running CTSM simulation in ISO format.\n",
      "                        [default: 2021-01-01 00:00:00]\n",
      "  --run-from-postad     For transient runs only - should we start from the\n",
      "                        postad spinup or finidat? By default start from\n",
      "                        finidat, if this flag is used the postad run must be\n",
      "                        available.\n"
     ]
    }
   ],
   "source": [
    "run_neon --help"
   ]
  },
  {
   "cell_type": "markdown",
   "metadata": {},
   "source": [
    "________\n",
    "<h2> 2. Explore CTSM model data </h2>\n",
    "\n",
    "Now that your simulation completed, we can explore the data.\n",
    "There are countless ways of analyzing and processing model data. This tutorial uses matplotlib. \n",
    "***"
   ]
  },
  {
   "cell_type": "markdown",
   "metadata": {},
   "source": [
    "<h4> 2.1 Locate model data </h4>\n",
    "When the simulation completed, the data are transferred to the `archive` directory. There are files that include data for every day of the simulation, as well as files that average model variables monthly. <p>\n",
    "\n",
    "*Run the code below to see a subset of the files listed.*"
   ]
  },
  {
   "cell_type": "code",
   "execution_count": 2,
   "metadata": {},
   "outputs": [
    {
     "name": "stdout",
     "output_type": "stream",
     "text": [
      "/home/user/archive/ABBY.transient/lnd/hist/ABBY.transient.clm2.h0.2018-01.nc\n",
      "/home/user/archive/ABBY.transient/lnd/hist/ABBY.transient.clm2.h0.2018-02.nc\n",
      "/home/user/archive/ABBY.transient/lnd/hist/ABBY.transient.clm2.h0.2018-03.nc\n",
      "/home/user/archive/ABBY.transient/lnd/hist/ABBY.transient.clm2.h0.2018-04.nc\n",
      "/home/user/archive/ABBY.transient/lnd/hist/ABBY.transient.clm2.h0.2018-05.nc\n",
      "/home/user/archive/ABBY.transient/lnd/hist/ABBY.transient.clm2.h0.2018-06.nc\n",
      "/home/user/archive/ABBY.transient/lnd/hist/ABBY.transient.clm2.h0.2018-07.nc\n",
      "/home/user/archive/ABBY.transient/lnd/hist/ABBY.transient.clm2.h0.2018-08.nc\n",
      "/home/user/archive/ABBY.transient/lnd/hist/ABBY.transient.clm2.h0.2018-09.nc\n",
      "/home/user/archive/ABBY.transient/lnd/hist/ABBY.transient.clm2.h0.2018-10.nc\n",
      "/home/user/archive/ABBY.transient/lnd/hist/ABBY.transient.clm2.h0.2018-11.nc\n",
      "/home/user/archive/ABBY.transient/lnd/hist/ABBY.transient.clm2.h0.2018-12.nc\n",
      "/home/user/archive/ABBY.transient/lnd/hist/ABBY.transient.clm2.h1.2018-01-01-00000.nc\n",
      "/home/user/archive/ABBY.transient/lnd/hist/ABBY.transient.clm2.h1.2018-01-02-00000.nc\n",
      "/home/user/archive/ABBY.transient/lnd/hist/ABBY.transient.clm2.h1.2018-01-03-00000.nc\n",
      "/home/user/archive/ABBY.transient/lnd/hist/ABBY.transient.clm2.h1.2018-01-04-00000.nc\n",
      "/home/user/archive/ABBY.transient/lnd/hist/ABBY.transient.clm2.h1.2018-01-05-00000.nc\n",
      "/home/user/archive/ABBY.transient/lnd/hist/ABBY.transient.clm2.h1.2018-01-06-00000.nc\n",
      "/home/user/archive/ABBY.transient/lnd/hist/ABBY.transient.clm2.h1.2018-01-07-00000.nc\n",
      "/home/user/archive/ABBY.transient/lnd/hist/ABBY.transient.clm2.h1.2018-01-08-00000.nc\n",
      "ls: write error: Broken pipe\n"
     ]
    }
   ],
   "source": [
    "!ls ~/archive/$site.transient/lnd/hist/*2018*.nc |head -20"
   ]
  },
  {
   "cell_type": "markdown",
   "metadata": {},
   "source": [
    "The list includes the file path and file names.\n",
    "\n",
    "The file names are automatically generated and include\n",
    "* the simulation name, which includes\n",
    "    * the NEON site\n",
    "    * the type of simulation (here the simulation is \"transient\", meaning the model ran for the full length of available data)\n",
    "* the date of simulated data\n",
    "\n",
    "The files are saved in netcdf format (denoted with the `.nc` file extension), a file format commonly used for storing large, multi-dimensional scientific variables.\n",
    "Netcdf files are platform independent and self-describing; each file includes metadata that describes the data, including: **variables**, **dimensions**, and **attributes**.\n",
    "\n",
    "The NEON tower simulations generate two types of files:\n",
    "* `*h0*`: Variables that are averaged monthly. One file is available for every month of the simulation.\n",
    "* `*h1*`: Variables that are recorded every 30 minutes. Values are aggregated into one file for each day of the simulation. Each file includes 48 data points.\n",
    "****\n"
   ]
  },
  {
   "cell_type": "markdown",
   "metadata": {},
   "source": [
    "<h4>2.2 Visualize the output </h4>\n",
    "Here let's take a quick look at our ouput and try visualizing it. \n",
    "\n",
    "Here we are going to use the existing function, `quick_soil_profile` to check the soil_profile . \n",
    "\n",
    "This function takes the simulation path and name of a case and one variable such as soil temperature `TSOI` in this case- and plots the soil profile with x-axis showing time and y-axis representing soil depth. \n",
    "\n",
    "We'll look at more advanced visualizations in the next tutorial lessons.\n"
   ]
  },
  {
   "cell_type": "code",
   "execution_count": 2,
   "metadata": {},
   "outputs": [
    {
     "name": "stdout",
     "output_type": "stream",
     "text": [
      "All Simulation files: [ 365 files]\n",
      "Reading all simulation files [ 365 files] took: 31.26105237007141 s.\n"
     ]
    },
    {
     "data": {
      "image/png": "[encoded data removed]",
      "text/plain": [
       "<Figure size 1080x360 with 2 Axes>"
      ]
     },
     "metadata": {
      "needs_background": "light"
     },
     "output_type": "display_data"
    }
   ],
   "source": [
    "from neon_utils import quick_soil_profile\n",
    "\n",
    "neon_site = \"ABBY\"\n",
    "sim_path = \"/home/user/archive/\"+neon_site+\".transient/lnd/hist/\"\n",
    "case_name = neon_site+\".transient.clm2\"\n",
    "year = 2018\n",
    "\n",
    "quick_soil_profile(sim_path, case_name, 'TSOI', year)"
   ]
  },
  {
   "cell_type": "markdown",
   "metadata": {},
   "source": [
    "And we can do a similar plot for soil water (`H2OSOI`) just as easily:"
   ]
  },
  {
   "cell_type": "code",
   "execution_count": 5,
   "metadata": {},
   "outputs": [
    {
     "name": "stdout",
     "output_type": "stream",
     "text": [
      "All Simulation files: [ 365 files]\n",
      "Reading all simulation files [ 365 files] took: 32.71104955673218 s.\n"
     ]
    },
    {
     "data": {
      "image/png": "[encoded data removed]",
      "text/plain": [
       "<Figure size 1080x360 with 2 Axes>"
      ]
     },
     "metadata": {
      "needs_background": "light"
     },
     "output_type": "display_data"
    }
   ],
   "source": [
    "quick_soil_profile(sim_path, case_name, 'H2OSOI', year)"
   ]
  },
  {
   "cell_type": "markdown",
   "metadata": {},
   "source": [
    "#### Congratulations! \n",
    "You have now completed a neon simulation and walked through the basic steps of a neon simulation.\n",
    "Please proceed to the next notebook for simple visualization and evaluation of your neon simulation against neon observation. \n",
    "\n",
    "***Danica I will remove from this and go to the next notebook***"
   ]
  },
  {
   "cell_type": "markdown",
   "metadata": {},
   "source": [
    "______________________________________________________________"
   ]
  },
  {
   "cell_type": "markdown",
   "metadata": {},
   "source": [
    "<h4>2.2 Preprocess and Explore Model Simulation Data </h4>\n",
    "\n",
    "This step has several components, which are broken into smaller steps\n"
   ]
  },
  {
   "cell_type": "markdown",
   "metadata": {},
   "source": [
    "<h5>2.2.1 Load Python Libraries</h5>\n",
    "\n",
    "*Run the below code to import the required python libraries*"
   ]
  },
  {
   "cell_type": "code",
   "execution_count": null,
   "metadata": {},
   "outputs": [],
   "source": [
    "## TODO: clean up imports\n",
    "#Import Libraries\n",
    "%matplotlib inline\n",
    "\n",
    "import os\n",
    "import sys\n",
    "import glob\n",
    "import time\n",
    "import argparse\n",
    "import requests\n",
    "\n",
    "import numpy as np\n",
    "import pandas as pd\n",
    "import xarray as xr\n",
    "\n",
    "\n",
    "from glob import glob\n",
    "from os.path import join, expanduser\n",
    "\n",
    "import matplotlib\n",
    "import matplotlib.pyplot as plt\n",
    "\n",
    "from scipy import stats\n"
   ]
  },
  {
   "cell_type": "markdown",
   "metadata": {},
   "source": [
    "<h5>2.2.2 Select Simulation Year</h5>\n",
    "\n",
    "For simplicity, we focus on analyzing and evaluating a single year of data. <p>\n",
    "\n",
    "The code below uses data for **2018**, but data are available through this year. You can select a different year by changing the year in the quotes below. <p> \n",
    "*Run the below code to identify the year of interest for making the plots. Note that the same year will be used to download observational data below*"
   ]
  },
  {
   "cell_type": "code",
   "execution_count": null,
   "metadata": {},
   "outputs": [],
   "source": [
    "#Specify the year below\n",
    "year = \"2018\"\n",
    "\n",
    "#Reading in the tower site selected above as a python variable\n",
    "neon_site = os.environ['site']"
   ]
  },
  {
   "cell_type": "markdown",
   "metadata": {},
   "source": [
    "<h5>2.2.3 Load model data files</h5>\n",
    "\n",
    "For reading the netCDF files, we are using the `xarray` Python package. You can learn more about [xarray on this website](http://xarray.pydata.org/en/stable/).\n",
    "\n",
    "The variable `sim_path` points to the location where simulation data are stored. *If you changed the simulation location in the above code, please also update this path.*\n",
    "\n",
    "*Run the code below to load the model data files. Note that the code will print how many files were loaded*"
   ]
  },
  {
   "cell_type": "code",
   "execution_count": null,
   "metadata": {},
   "outputs": [],
   "source": [
    "sim_path = \"/home/user/archive/\"+neon_site+\".transient/lnd/hist/\"\n",
    "sim_files = sorted(glob(join(sim_path,neon_site+\".transient.clm2.h1.\"+year+\"*.nc\")))\n",
    "\n",
    "print(\"All Simulation files: [\", len(sim_files), \"files]\")\n",
    "#print(*sim_files,sep='\\n')"
   ]
  },
  {
   "cell_type": "markdown",
   "metadata": {},
   "source": [
    "<h5> 2.2.4 Open model data files </h5>\n",
    "\n",
    "Here we use the python function `xarray.open_mfdataset`, which opens multiple netcdf files as a single xarray dataset. For more information on this function, check [this link](\n",
    "http://xarray.pydata.org/en/stable/generated/xarray.open_mfdataset.html).\n",
    "\n",
    "*Run the below cell to read in the data files. Note that this step might take a few minutes.*"
   ]
  },
  {
   "cell_type": "code",
   "execution_count": null,
   "metadata": {},
   "outputs": [],
   "source": [
    "start = time.time()\n",
    "\n",
    "ds_ctsm = xr.open_mfdataset(sim_files, decode_times=True, combine='by_coords',parallel=True)\n",
    "\n",
    "end = time.time()\n",
    "print(\"Reading all simulation files took:\", end-start, \"s.\")\n"
   ]
  },
  {
   "cell_type": "markdown",
   "metadata": {},
   "source": [
    "<h5> 2.2.5 Optional Step: Explore simulation data </h5>\n",
    "\n",
    "*Run the below cell to find more information about the data*"
   ]
  },
  {
   "cell_type": "code",
   "execution_count": null,
   "metadata": {},
   "outputs": [],
   "source": [
    "ds_ctsm"
   ]
  },
  {
   "cell_type": "markdown",
   "metadata": {},
   "source": [
    "Here you can click on `Data Variables`, `Attributes`, `Deminsions`, and `coordinates` to expand and see the details. \n",
    "\n",
    "If you click on `Data Variables`, you will see a list of all the available variables. You can click on each variable to see a description of the variable (the `long_name`) and its `units`, as well as other information. Here are two questions to consider:\n",
    "\n",
    "**Questions to consider** \n",
    "1. What are the avaibale variables in the dataset?\n",
    "2. What is the `long_name` and `unit` of the variable `FSH`? \n",
    "3. Can you find the dimensions of this variable? \n",
    "\n",
    "**Tip**: Xarray has built-in plotting functions. For quick inspection of a variable, we can use `.plot()` to see it. Below, let's make a quick plot of the Gross Primary Production (`GPP`) variable:"
   ]
  },
  {
   "cell_type": "code",
   "execution_count": null,
   "metadata": {},
   "outputs": [],
   "source": [
    "ds_ctsm['GPP'].plot()"
   ]
  },
  {
   "cell_type": "markdown",
   "metadata": {},
   "source": [
    "________\n",
    "<h2> 3. Explore NEON Tower Observation Data </h2>\n",
    "\n",
    "***\n",
    "\n",
    "<h4> 3.1 Load NEON data </h4>\n",
    "    \n",
    "The following code will download the NEON observational data files for the site and year specified above. \n",
    "\n",
    "*Run the two cells of code below. You will see what files are available.*"
   ]
  },
  {
   "cell_type": "code",
   "execution_count": null,
   "metadata": {},
   "outputs": [],
   "source": [
    "eval_dir = \"/home/user/evaluation_files/\"\n",
    "\n",
    "download_eval_files(neon_site, eval_dir)\n",
    "\n",
    "eval_path = os.path.join('/home/user/evaluation_files/',neon_site)\n",
    "\n",
    "eval_files = sorted(glob(join(eval_path,neon_site+\"_eval_\"+year+\"*.nc\")))\n",
    "\n",
    "print(\"All Observation files:\")\n",
    "print(*eval_files,sep='\\n')"
   ]
  },
  {
   "cell_type": "code",
   "execution_count": null,
   "metadata": {},
   "outputs": [],
   "source": [
    "start = time.time()\n",
    "\n",
    "ds_eval = xr.open_mfdataset(eval_files, decode_times=True, combine='by_coords')\n",
    "\n",
    "end = time.time()\n",
    "print(\"Reading all observation files took:\", end-start, \"s.\")"
   ]
  },
  {
   "cell_type": "markdown",
   "metadata": {},
   "source": [
    "<h4> 3.2 Optional Step: Explore NEON data </h4>"
   ]
  },
  {
   "cell_type": "markdown",
   "metadata": {},
   "source": [
    "Similar to above, you can explore NEON data by clicking to see details about the variables, coordinate, and attributes."
   ]
  },
  {
   "cell_type": "code",
   "execution_count": null,
   "metadata": {},
   "outputs": [],
   "source": [
    "ds_eval"
   ]
  },
  {
   "cell_type": "markdown",
   "metadata": {},
   "source": [
    "Let's quickly inspect the Net Radiation (`Rnet`) variable by making a simple plot:"
   ]
  },
  {
   "cell_type": "code",
   "execution_count": null,
   "metadata": {},
   "outputs": [],
   "source": [
    "ds_eval['Rnet'].plot()"
   ]
  },
  {
   "cell_type": "markdown",
   "metadata": {},
   "source": [
    "__________\n",
    "# 4. Compare CTSM and NEON latent heat flux data\n",
    "\n",
    "So far we read files of observational and model data. In this section we will compare observed and simulated **latent heat fluxes**. You can also explore other available variables with this code.\n",
    "***\n",
    "\n",
    "#### Format Data\n",
    "The next cell of code processes the data into a common format to make analysis easier. \n",
    "\n",
    "*Run the below cell of code*"
   ]
  },
  {
   "cell_type": "code",
   "execution_count": null,
   "metadata": {},
   "outputs": [],
   "source": [
    "#Negin will clean up this code a little bit\n",
    "\n",
    "#Convert CTSM data to a Pandas Dataframe for easier handling:\n",
    "plot_vars = ['FCEV', 'FCTR', 'FGEV']\n",
    "\n",
    "df_ctsm = pd.DataFrame({'time':ds_ctsm.time})\n",
    "\n",
    "for var in plot_vars:\n",
    "    field = np.ravel ( ds_ctsm[var])     \n",
    "    df_ctsm[var]=field\n",
    "\n",
    "#Convert NEON data to a Pandas Dataframe for easier handling:\n",
    "eval_vars = ['EFLX_LH_TOT']\n",
    "\n",
    "df_eval = pd.DataFrame({'time':ds_eval.time})\n",
    "\n",
    "for var in eval_vars:\n",
    "    field = np.ravel ( ds_eval[var])     \n",
    "    df_eval[var]=field\n",
    "\n",
    "#-- extract year, month, day, hour information from time\n",
    "df_eval['year'] = df_eval['time'].dt.year\n",
    "df_eval['month'] = df_eval['time'].dt.month\n",
    "df_eval['day'] = df_eval['time'].dt.day\n",
    "df_eval['hour'] = df_eval['time'].dt.hour\n",
    "\n",
    "#-- make df_all that includes both obs and sim\n",
    "df_all = df_eval\n",
    "\n",
    "#-- add simulation data to df_all and adjust for offset time dimension:\n",
    "for var in plot_vars:\n",
    "    sim_var_name = \"sim_\"+var\n",
    "    #-- shift simulation data by one\n",
    "    df_all[sim_var_name]=df_ctsm[var].shift(-1).values"
   ]
  },
  {
   "cell_type": "markdown",
   "metadata": {},
   "source": [
    "## 4.1 What is latent heat flux?\n",
    "\n",
    "Below we explore how well CTSM simulates latent heat flux, which is directly observed at NEON towers. Latent heat flux is the energy for water evaporation from the ecosystem. Latent heat flux is a combination of plant transpiration, evaporation from leaf surfaces (e.g., from dew, after precipitation events), and evaporation from the soil:\n",
    "\n",
    "$$ Latent Heat Flux = Transpiration + Canopy Evaporation + Ground Evaporation $$\n",
    "\n",
    "Although NEON towers cannot distinguish how much each of these processes contributes to latent heat flux, CTSM simulations can help us to disentangle the role of each. "
   ]
  },
  {
   "cell_type": "markdown",
   "metadata": {},
   "source": [
    "First we will calculate latent heat flux simulated by CTSM by summing the component fluxes in the above equation. The CTSM variables are:\n",
    "\n",
    ">$FCEV$: Canopy evaporation (W m<sup>-2</sup>) <br>\n",
    ">$FCTR$: Canopy transpiration (W m<sup>-2</sup>) <br>\n",
    ">$FGEV$: Ground evaporation (W m<sup>-2</sup>) <br>\n",
    "\n",
    "*Run the below cell to calculate simulated latent heat flux*"
   ]
  },
  {
   "cell_type": "code",
   "execution_count": null,
   "metadata": {},
   "outputs": [],
   "source": [
    "clm_var = 'sim_EFLX_LH_TOT'\n",
    "\n",
    "#EFLX_LH_TOT = FCEV + FCTR +FGEV\n",
    "df_all [clm_var] = df_ctsm['FCEV'].shift(-1).values \\\n",
    "                 + df_ctsm['FCTR'].shift(-1).values \\\n",
    "                 + df_ctsm['FGEV'].shift(-1).values"
   ]
  },
  {
   "cell_type": "markdown",
   "metadata": {},
   "source": [
    "## 4.2 Plotting latent heat flux"
   ]
  },
  {
   "cell_type": "markdown",
   "metadata": {},
   "source": [
    "### 4.2.1 Timeseries Plot\n",
    "First we will create a time-series plot comparing daily average latent heat flux from observation (NEON) and simulations (CTSM). To start, we need calculate the daily averages. \n",
    "\n",
    "*Run the below cells of code to calculate daily averages*"
   ]
  },
  {
   "cell_type": "code",
   "execution_count": null,
   "metadata": {},
   "outputs": [],
   "source": [
    "df_daily = df_all.groupby(['year','month','day']).mean().reset_index()\n",
    "df_daily['time']=pd.to_datetime(df_daily[[\"year\", \"month\", \"day\"]])"
   ]
  },
  {
   "cell_type": "code",
   "execution_count": null,
   "metadata": {},
   "outputs": [],
   "source": [
    "plot_var = 'EFLX_LH_TOT'\n",
    "sim_var = 'sim_'+plot_var\n",
    "\n",
    "plot_var_desc = \"Latent Heat Flux\"\n",
    "plot_var_unit= \"Wm-2\""
   ]
  },
  {
   "cell_type": "markdown",
   "metadata": {},
   "source": [
    "Using the daily averages we calculated, we can create a plot using Python's [matplotlib package:](https://matplotlib.org/)\n",
    "\n",
    "*Run the below cell to create the plot*"
   ]
  },
  {
   "cell_type": "code",
   "execution_count": null,
   "metadata": {},
   "outputs": [],
   "source": [
    "plt.figure(num=None, figsize=(13, 5),  facecolor='w', edgecolor='k')\n",
    "        \n",
    "ax = plt.gca()\n",
    "df_daily.plot ( x= 'time', y = plot_var , marker = 'o' ,ax =ax , color = 'b',label=\"NEON\")\n",
    "df_daily.plot ( x= 'time', y = 'sim_'+plot_var , marker = 'o' ,ax =ax , color = 'r',label=\"CLM\")\n",
    "\n",
    "plt.xlabel('Time', fontsize=17)\n",
    "plt.ylabel(plot_var_desc+\" [\"+plot_var_unit+\"]\", fontsize=17)\n",
    "plt.title(year+\" \"+neon_site, fontweight='bold',fontsize=17)\n",
    "plt.show()\n",
    "plt.savefig(\"2018_ABBY_TSeries_Daily_Ave_V2.png\")\n",
    "\n",
    "#plt.savefig(year+\"_\"+neon_site+\"_TSeries_Daily_Ave_V2.png\")\n",
    "##TO DO: Update the file name to use the site name. Does above line work? "
   ]
  },
  {
   "cell_type": "markdown",
   "metadata": {},
   "source": [
    "Looking at variability gives us an indication of when and where simulations are outside the range of observed values. Let's explore variability by adding the daily standard deviation as a shaded area to the plot:"
   ]
  },
  {
   "cell_type": "code",
   "execution_count": null,
   "metadata": {},
   "outputs": [],
   "source": [
    "df_daily_std = df_all.groupby(['year','month','day']).std().reset_index()\n",
    "df_daily_std['time'] = pd.to_datetime(df_daily_std[[\"year\", \"month\", \"day\"]])\n",
    "\n",
    "plt.figure(num=None, figsize=(13, 5),  facecolor='w', edgecolor='k')\n",
    "\n",
    "plt.plot ( df_daily.time, df_daily[plot_var], marker = 'o' , color = 'b',label=\"NEON\")\n",
    "plt.plot ( df_daily.time, df_daily[sim_var], marker = 'o' , color = 'r',label=\"CLM\")\n",
    "\n",
    "plt.fill_between(df_daily.time, df_daily.EFLX_LH_TOT-df_daily_std.EFLX_LH_TOT, df_daily.EFLX_LH_TOT+df_daily_std.EFLX_LH_TOT ,alpha=0.1, color = 'b')\n",
    "plt.fill_between(df_daily.time, df_daily.sim_EFLX_LH_TOT-df_daily_std.sim_EFLX_LH_TOT, df_daily.sim_EFLX_LH_TOT+df_daily_std.sim_EFLX_LH_TOT ,alpha=0.1, color = 'r')\n",
    "\n",
    "plt.legend()\n",
    "plt.xlabel('Time', fontsize=17)\n",
    "plt.ylabel(plot_var_desc+\" [\"+plot_var_unit+\"]\", fontsize=17)\n",
    "plt.title(year+\" \"+neon_site, fontweight='bold',fontsize=17)\n",
    "plt.show()\n",
    "plt.savefig(\"2018_ABBY_TSeriesShaded_Daily_Ave_V2.png\")"
   ]
  },
  {
   "cell_type": "markdown",
   "metadata": {},
   "source": [
    "This allows us to see when CTSM under-predicts or over-predicts the NEON tower observations.\n",
    "\n",
    "#### **Questions to consider:**\n",
    "\n",
    "1. When is the latent heat hlux highest at this site? When is it lowest? <br>\n",
    "1. Does CLM match NEON tower observations? <br>\n",
    "1. What times of year does CLM shows the best and worst performance in predicting latent heat flux ? <br>"
   ]
  },
  {
   "cell_type": "markdown",
   "metadata": {},
   "source": [
    "# Congratulations! You have:\n",
    "1. Completed a CTSM simulation at a NEON tower\n",
    "1. Accessed the CTSM model data\n",
    "1. Examined one of the model variables\n",
    "\n",
    "### If you would like to learn more about evaluating CTSM against NEON observations, please continue to the **NEON_Evaluation_Simple.ipynb** tutorial"
   ]
  },
  {
   "cell_type": "code",
   "execution_count": null,
   "metadata": {},
   "outputs": [],
   "source": []
  }
 ],
 "metadata": {
  "kernelspec": {
   "display_name": "Python [conda env:default] *",
   "language": "python",
   "name": "conda-env-default-py"
  },
  "language_info": {
   "codemirror_mode": {
    "name": "ipython",
    "version": 3
   },
   "file_extension": ".py",
   "mimetype": "text/x-python",
   "name": "python",
   "nbconvert_exporter": "python",
   "pygments_lexer": "ipython3",
   "version": "3.7.8"
  }
 },
 "nbformat": 4,
 "nbformat_minor": 4
}
