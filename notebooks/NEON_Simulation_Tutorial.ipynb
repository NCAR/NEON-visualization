{
 "cells": [
  {
   "cell_type": "markdown",
   "metadata": {},
   "source": [
    "# CTSM Simulations at NEON Tower Sites -- Tutorial \n",
    "\n",
    "This tutorial is an introduction to running CLM at NEON tower sites.  It will guide you through running a simulation and provides example visualization of the simulation results.  \n",
    "\n",
    "***\n",
    "**The tutorial uses a Jupyter Notebook.** A Jupyter Notebook is an interactive computing environment that enables the creation and sharing of documents that contain discrete cells of text or documentation and executable code, including plots. It allows users to access, run, and edit the code in a browser. To interact with this notebook:\n",
    "\n",
    "- Execute or \"run\" cells of executable code (cells denoted with '[ ]:') using the play button in the menu at the top (see below image)\n",
    "\n",
    "- The results of running code, such as plots, will appear below that cell\n",
    "\n",
    "- Each step must be followed in order, otherwise you may encounter errors\n",
    "\n",
    "![run cell](https://problemsolvingwithpython.com/02-Jupyter-Notebooks/images/run_cell.png)\n",
    "\n",
    "For more information on Jupyter notebooks please see their [user guide](https://jupyter-notebook-beginner-guide.readthedocs.io/en/latest/what_is_jupyter.html). \n",
    "\n",
    "***"
   ]
  },
  {
   "cell_type": "markdown",
   "metadata": {},
   "source": [
    "## In this tutorial\n",
    "\n",
    "The tutorial has several components. Below you will find steps to: \n",
    "1. Set up and run a simulation\n",
    "2. Explore CTSM model data\n",
    "3. Explore NEON observation data\n",
    "4. Compare CTSM and NEON latent heat flux data\n",
    "\n",
    "Note that step 1 is the necessary step to run the simulation. If you would like to explore the available data, please continue with steps 2-4 explore the available data.\n",
    "If you want"
   ]
  },
  {
   "cell_type": "markdown",
   "metadata": {},
   "source": [
    "****\n",
    "<h2> 1. Set up and run a simulation</h2>\n",
    "\n",
    "*This step guides you through running a CTSM model simulation for a NEON flux tower using meteorology observations from the tower. Here, the many steps to run CTSM are condensed into a single function. If you would like a more advanced tutorial to change the model configuration or code, please see [tutorial not yet available] for additional instructions.* <br>\n",
    "\n",
    "***\n",
    "<h4>1.1 Select a NEON tower site to simulate.</h4>\n",
    "\n",
    "NEON towers available for simulation include:  \n",
    "\n",
    ">ABBY, BART, BLAN, CPER, DCFS, DSNY, GRSM, HARV, JERC, JORN, KONZ, MOAB, NOGP, OAES, ORNL, OSBS, SCBI, SERC, SOAP, SRER, STEI, TALL, TREE, UKFS, UNDE, WOOD.  \n",
    "\n",
    "The [NEON website](https://www.neonscience.org/field-sites/explore-field-sites) describes tower sites in more detail.\n",
    "\n",
    "Before running the below code, keep in mind:\n",
    "- The executable code below selects the **ABBY** site for simulation. If you would like to simulate a different tower, select the NEON tower from the above list and change the 4-character site name inside the quotes below.\n",
    "- The site must be defined correctly so you do not get an error in the next step.\n",
    "    - use all capital letters \n",
    "    - double-check that the letters match one of the above site names\n",
    "\n",
    "*Execute the the cell below by clicking on the play button in the menu bar above.*"
   ]
  },
  {
   "cell_type": "code",
   "execution_count": 2,
   "metadata": {},
   "outputs": [],
   "source": [
    "#Change the 4-character NEON site below.\n",
    "import os\n",
    "os.environ['site'] = 'ABBY'"
   ]
  },
  {
   "cell_type": "markdown",
   "metadata": {},
   "source": [
    "***\n",
    "<h4>1.2 Create and run a NEON tower site simulation.</h4>  \n",
    "\n",
    "The executable code below runs a python script, run_neon.py. This script\n",
    "\n",
    "* creates (`create_newcase`)\n",
    "* sets up (`case.setup`)\n",
    "* compiles (`case.build`)\n",
    "* runs (`case.submit`)\n",
    "    \n",
    "a simulation for the tower site you specified above for all years that tower meteorology data are available.\n",
    "\n",
    "*Run the cell below. Note that this step downloads the input data (~7GB) required for the model simulation. It may take several minutes to run, so please be patient. Many things will print below the cell as data are downloaded and the model compiles.* "
   ]
  },
  {
   "cell_type": "code",
   "execution_count": 2,
   "metadata": {
    "collapsed": true,
    "jupyter": {
     "outputs_hidden": true
    }
   },
   "outputs": [
    {
     "name": "stdout",
     "output_type": "stream",
     "text": [
      "Download finished successfully for listing.csv .\n",
      "---- building a base case -------\n",
      "base_case_name : ABBY\n",
      "user_mods_dir  : /opt/ncar/cesm2/cime_config/usermods_dirs/NEON/ABBY\n",
      "---- creating a base case -------\n",
      "Compset longname is 2000_DATM%1PT_CLM51%BGC_SICE_SOCN_SROF_SGLC_SWAV\n",
      "Compset specification file is /opt/ncar/cesm2/cime_config/config_compsets.xml\n",
      "Automatically adding SESP to compset\n",
      "Compset forcing is 1972-2004\n",
      "ATM component is  Data driven ATM single point tower site data set \n",
      "LND component is clm5.1:BGC (vert. resol. CN and methane):\n",
      "ICE component is Stub ice component\n",
      "OCN component is Stub ocn component\n",
      "ROF component is Stub river component\n",
      "GLC component is Stub glacier (land ice) component\n",
      "WAV component is Stub wave component\n",
      "ESP component is Stub external system processing (ESP) component\n",
      "Pes     specification file is /opt/ncar/cesm2/cime_config/config_pes.xml\n",
      "Compset specific settings: name is RUN_STARTDATE and value is 2000-01-01\n",
      "Could not find machine match for '518fb6c9b0b7' or '518fb6c9b0b7'\n",
      "Machine is container\n",
      "Variable MAX_GPUS_PER_NODE not defined for machine container\n",
      "Pes setting: grid match    is l%1x1|l%CLM_USRDAT \n",
      "Pes setting: grid          is a%CLM_USRDAT_l%CLM_USRDAT_oi%null_r%null_g%null_w%null_z%null_m%null \n",
      "Pes setting: compset       is 2000_DATM%1PT_CLM51%BGC_SICE_SOCN_SROF_SGLC_SWAV_SESP \n",
      "Pes setting: tasks       is {'NTASKS_ATM': 1, 'NTASKS_LND': 1, 'NTASKS_ROF': 1, 'NTASKS_ICE': 1, 'NTASKS_OCN': 1, 'NTASKS_GLC': 1, 'NTASKS_WAV': 1, 'NTASKS_CPL': 1} \n",
      "Pes setting: threads     is {'NTHRDS_ATM': 1, 'NTHRDS_LND': 1, 'NTHRDS_ROF': 1, 'NTHRDS_ICE': 1, 'NTHRDS_OCN': 1, 'NTHRDS_GLC': 1, 'NTHRDS_WAV': 1, 'NTHRDS_CPL': 1} \n",
      "Pes setting: rootpe      is {'ROOTPE_ATM': 0, 'ROOTPE_LND': 0, 'ROOTPE_ROF': 0, 'ROOTPE_ICE': 0, 'ROOTPE_OCN': 0, 'ROOTPE_GLC': 0, 'ROOTPE_WAV': 0, 'ROOTPE_CPL': 0} \n",
      "Pes setting: pstrid      is {} \n",
      "Pes other settings: {}\n",
      "Pes comments: none\n",
      "setting additional fields from config_pes: {}\n",
      " Compset is: 2000_DATM%1PT_CLM51%BGC_SICE_SOCN_SROF_SGLC_SWAV_SESP \n",
      " Grid is: a%CLM_USRDAT_l%CLM_USRDAT_oi%null_r%null_g%null_w%null_z%null_m%null \n",
      " Components in compset are: ['datm', 'clm', 'sice', 'socn', 'srof', 'sglc', 'swav', 'sesp'] \n",
      "No project info available\n",
      "No charge_account info available, using value from PROJECT\n",
      "cesm model version found: branch_tags/neon.n04_ctsm5.1.dev053\n",
      "Batch_system_type is none\n",
      " Creating Case directory /home/user/CLM-NEON/ABBY\n",
      "Adding user mods directory /opt/ncar/cesm2/cime_config/usermods_dirs/NEON/ABBY\n",
      "Adding user mods directory /opt/ncar/cesm2/cime_config/usermods_dirs/NEON/defaults\n",
      "RUN: /home/user/CLM-NEON/ABBY/shell_commands\n",
      "FROM: /home/user/CLM-NEON/ABBY\n",
      "---- base case created ------\n",
      "---- base case setup ------\n",
      "Making inputdata directory: /home/user/inputdata\n",
      "Setting resource.RLIMIT_STACK to -1 from (-1, -1)\n",
      "/home/user/CLM-NEON/ABBY/env_mach_specific.xml already exists, delete to replace\n",
      "/home/user/CLM-NEON/ABBY/env_mach_specific.xml already exists, delete to replace\n",
      "Creating batch scripts\n",
      "Writing case.run script from input template /opt/ncar/cesm2/cime/config/cesm/machines/template.case.run\n",
      "Creating file .case.run\n",
      "Writing case.st_archive script from input template /opt/ncar/cesm2/cime/config/cesm/machines/template.st_archive\n",
      "Creating file case.st_archive\n",
      "If an old case build already exists, might want to run 'case.build --clean' before building\n",
      "You can now run './preview_run' to get more info on how your case will be run\n",
      "---- base case build ------\n",
      "Building case in directory /home/user/CLM-NEON/ABBY\n",
      "sharedlib_only is False\n",
      "model_only is False\n",
      "Generating component namelists as part of build\n",
      "  2021-09-14 15:25:39 atm \n",
      "Create namelist for component datm\n",
      "   Calling /opt/ncar/cesm2/components/cdeps/datm/cime_config/buildnml\n",
      "Setting resource.RLIMIT_STACK to -1 from (-1, -1)\n",
      "WARNING: No .input_data_list files found in dir 'Buildconf'\n",
      "Using protocol wget with user None and passwd None\n",
      "SUCCESS\n",
      "\n",
      "Found tower data for 2018-01-01 00:00:00 through 2021-06-01 00:00:00\n",
      "  2021-09-14 15:25:43 lnd \n",
      "Create namelist for component clm\n",
      "   Calling /opt/ncar/cesm2/cime_config/buildnml\n",
      "  2021-09-14 15:25:43 ice \n",
      "Create namelist for component sice\n",
      "   Calling /opt/ncar/cesm2/cime/src/components/stub_comps_nuopc/sice/cime_config/buildnml\n",
      "  2021-09-14 15:25:43 ocn \n",
      "Create namelist for component socn\n",
      "   Calling /opt/ncar/cesm2/cime/src/components/stub_comps_nuopc/socn/cime_config/buildnml\n",
      "  2021-09-14 15:25:43 rof \n",
      "Create namelist for component srof\n",
      "   Calling /opt/ncar/cesm2/cime/src/components/stub_comps_nuopc/srof/cime_config/buildnml\n",
      "  2021-09-14 15:25:43 glc \n",
      "Create namelist for component sglc\n",
      "   Calling /opt/ncar/cesm2/cime/src/components/stub_comps_nuopc/sglc/cime_config/buildnml\n",
      "  2021-09-14 15:25:43 wav \n",
      "Create namelist for component swav\n",
      "   Calling /opt/ncar/cesm2/cime/src/components/stub_comps_nuopc/swav/cime_config/buildnml\n",
      "  2021-09-14 15:25:43 esp \n",
      "Create namelist for component sesp\n",
      "   Calling /opt/ncar/cesm2/cime/src/components/stub_comps_nuopc/sesp/cime_config/buildnml\n",
      "  2021-09-14 15:25:43 cpl \n",
      "Create namelist for component drv\n",
      "   Calling /opt/ncar/cesm2/components/cmeps/cime_config/buildnml\n",
      "Writing nuopc_runseq for components ['CPL', 'ATM', 'LND']\n",
      "Building gptl with output to file /home/user/CLM-NEON/ABBY/bld/gptl.bldlog.210914-152539\n",
      "   Calling /opt/ncar/cesm2/cime/src/build_scripts/buildlib.gptl\n",
      "Component gptl build complete with 1 warnings\n",
      "Building mct with output to file /home/user/CLM-NEON/ABBY/bld/mct.bldlog.210914-152539\n",
      "   Calling /opt/ncar/cesm2/cime/src/build_scripts/buildlib.mct\n",
      "Building pio with output to file /home/user/CLM-NEON/ABBY/bld/pio.bldlog.210914-152539\n",
      "   Calling /opt/ncar/cesm2/cime/src/build_scripts/buildlib.pio\n",
      "Component pio build complete with 10 warnings\n",
      "Building csm_share with output to file /home/user/CLM-NEON/ABBY/bld/csm_share.bldlog.210914-152539\n",
      "   Calling /opt/ncar/cesm2/share/buildlib.csm_share\n",
      "Component csm_share build complete with 4 warnings\n",
      "Building CDEPS with output to file /home/user/CLM-NEON/ABBY/bld/CDEPS.bldlog.210914-152539\n",
      "   Calling /opt/ncar/cesm2/components/cdeps/cime_config/buildlib\n",
      "         - Building clm library \n",
      "Building lnd with output to /home/user/CLM-NEON/ABBY/bld/lnd.bldlog.210914-152539\n",
      "Component lnd build complete with 1 warnings\n",
      "clm built in 20.637471 seconds\n",
      "ERROR: BUILD FAIL: clm.buildlib failed, cat /home/user/CLM-NEON/ABBY/bld/lnd.bldlog.210914-152539\n"
     ]
    }
   ],
   "source": [
    "run_neon --neon-sites $site --output-root ~/CLM-NEON"
   ]
  },
  {
   "cell_type": "markdown",
   "metadata": {},
   "source": [
    "<br><br>You might see lines print that say 'ERROR 404: Not Found' and this is ok. You will also likely notice that many files are moved after the simulation completes. The model is done running when you see: \n",
    "\n",
    ">st_archive completed <br>\n",
    ">Submitted job case.run with id None\n",
    ">Submitted job case.st_archive with id None\n",
    "\n",
    "\n",
    "If you see this message, great! You've created and run CTSM for the NEON tower you selected, and we'll look at simulation data next.\n",
    "\n",
    "Note that you can also run the above line of code in your terminal shell but you will need to point to the location of the file:\n",
    "`/opt/ncar/cesm2/tools/site_and_regional/run_neon.py --neon-sites <site> --output-root <path>`\n",
    "\n",
    "More detail about setting up and modifying simulations will be available in an upcoming tutorial. Additional information about CLM is available [on the website](https://www.cesm.ucar.edu/models/cesm2/land/), including [technical documentation](https://escomp.github.io/ctsm-docs/versions/release-clm5.0/html/tech_note/index.html), a [user's guide](https://escomp.github.io/ctsm-docs/versions/release-clm5.0/html/users_guide/index.html), and a [quickstart guide](https://escomp.github.io/CESM/release-cesm2/quickstart.html#create-a-case) to running other model configurations.\n",
    "<br><br>\n",
    "***"
   ]
  },
  {
   "cell_type": "markdown",
   "metadata": {},
   "source": [
    "<h4> Optional </h4>\n",
    "\n",
    "If you would like to see additional and more advanced options for running NEON tower site simulations, many are listed in the python script you just executed using a `--help` option. <p>\n",
    "\n",
    "*Executing the below cell is optional and will print options available options in the `run_neon` python script*"
   ]
  },
  {
   "cell_type": "code",
   "execution_count": 6,
   "metadata": {
    "collapsed": true,
    "jupyter": {
     "outputs_hidden": true
    }
   },
   "outputs": [
    {
     "name": "stdout",
     "output_type": "stream",
     "text": [
      "usage: run_neon.py [-h] [-d] [-v] [-s]\n",
      "                   [--neon-sites {ABBY,BARR,BART,BLAN,BONA,CLBJ,CPER,DCFS,DEJU,DELA,DSNY,GRSM,GUAN,HARV,HEAL,JERC,JORN,KONA,KONZ,LAJA,LENO,MLBS,MOAB,NIWO,NOGP,OAES,ONAQ,ORNL,OSBS,PUUM,RMNP,SCBI,SERC,SJER,SOAP,SRER,STEI,STER,TALL,TEAK,TOOL,TREE,UKFS,UNDE,WOOD,WREF,YELL,all} [{ABBY,BARR,BART,BLAN,BONA,CLBJ,CPER,DCFS,DEJU,DELA,DSNY,GRSM,GUAN,HARV,HEAL,JERC,JORN,KONA,KONZ,LAJA,LENO,MLBS,MOAB,NIWO,NOGP,OAES,ONAQ,ORNL,OSBS,PUUM,RMNP,SCBI,SERC,SJER,SOAP,SRER,STEI,STER,TALL,TEAK,TOOL,TREE,UKFS,UNDE,WOOD,WREF,YELL,all} ...]]\n",
      "                   [--base-case BASE_CASE_ROOT] [--output-root OUTPUT_ROOT]\n",
      "                   [--overwrite] [--setup-only] [--rerun] [--no-batch]\n",
      "                   [--run-type {ad,postad,transient,sasu}]\n",
      "                   [--run-length RUN_LENGTH] [--start-date START_DATE]\n",
      "                   [--end-date END_DATE] [--run-from-postad]\n",
      "\n",
      "|------------------------------------------------------------------|\n",
      "|---------------------  Instructions  -----------------------------|\n",
      "|------------------------------------------------------------------|\n",
      "This is a wrapper script for running CTSM simulation for one or more\n",
      "neon sites. \n",
      "\n",
      "This script is only for neon site and we will develop a more general\n",
      "code later.\n",
      "\n",
      "This script first creates and builds a generic base case. \n",
      "Next, it will clone the base_case for different neon sites and run\n",
      "types to reduce the need to build ctsm everytime. \n",
      "\n",
      "This script will do the following:\n",
      "    1) Create a generic base case for cloning. \n",
      "    2) Make the case for the specific neon site(s).\n",
      "    3) Make changes to the case, for:\n",
      "        a. AD spinup\n",
      "\tb. post-AD spinup\n",
      "        c. transient\n",
      "    \t#---------------\n",
      "    \td. SASU or Matrix spinup\n",
      "    4) Build and submit the case.\n",
      " \n",
      "-------------------------------------------------------------------\n",
      "Instructions for running on Cheyenne/Casper:\n",
      " \n",
      "load the following into your local environment\n",
      "    module load python\n",
      "    ncar_pylib\n",
      " \n",
      "To remove NPL from your environment on Cheyenne/Casper:\n",
      "    deactivate\n",
      " \n",
      "-------------------------------------------------------------------\n",
      "To see the available options:\n",
      "    ./run_neon.py --help\n",
      "-------------------------------------------------------------------\n",
      "\n",
      "optional arguments:\n",
      "  -h, --help            show this help message and exit\n",
      "  -d, --debug           Print debug information (very verbose) to file /home/u\n",
      "                        ser/CESM_Lab/tutorials/notebooks/run_neon.py.log\n",
      "  -v, --verbose         Add additional context (time and file) to log messages\n",
      "  -s, --silent          Print only warnings and error messages\n",
      "  --neon-sites {ABBY,BARR,BART,BLAN,BONA,CLBJ,CPER,DCFS,DEJU,DELA,DSNY,GRSM,GUAN,HARV,HEAL,JERC,JORN,KONA,KONZ,LAJA,LENO,MLBS,MOAB,NIWO,NOGP,OAES,ONAQ,ORNL,OSBS,PUUM,RMNP,SCBI,SERC,SJER,SOAP,SRER,STEI,STER,TALL,TEAK,TOOL,TREE,UKFS,UNDE,WOOD,WREF,YELL,all} [{ABBY,BARR,BART,BLAN,BONA,CLBJ,CPER,DCFS,DEJU,DELA,DSNY,GRSM,GUAN,HARV,HEAL,JERC,JORN,KONA,KONZ,LAJA,LENO,MLBS,MOAB,NIWO,NOGP,OAES,ONAQ,ORNL,OSBS,PUUM,RMNP,SCBI,SERC,SJER,SOAP,SRER,STEI,STER,TALL,TEAK,TOOL,TREE,UKFS,UNDE,WOOD,WREF,YELL,all} ...]\n",
      "                        4-letter neon site code.\n",
      "  --base-case BASE_CASE_ROOT\n",
      "                        Root Directory of base case build [default: None]\n",
      "  --output-root OUTPUT_ROOT\n",
      "                        Root output directory of cases [default:\n",
      "                        CIME_OUTPUT_ROOT as defined in cime]\n",
      "  --overwrite           overwrite existing case directories [default: False]\n",
      "  --setup-only          Only setup the requested cases, do not build or run\n",
      "                        [default: False]\n",
      "  --rerun               If the case exists but does not appear to be complete,\n",
      "                        restart it. [default: False]\n",
      "  --no-batch            Run locally, do not use batch queueing system (if\n",
      "                        defined for Machine) [default: False]\n",
      "  --run-type {ad,postad,transient,sasu}\n",
      "                        Type of run to do [default: transient]\n",
      "  --run-length RUN_LENGTH\n",
      "                        How long to run (modified ISO 8601 duration) [default:\n",
      "                        0Y]\n",
      "  --start-date START_DATE\n",
      "                        Start date for running CTSM simulation in ISO format.\n",
      "                        [default: 2018-01-01 00:00:00]\n",
      "  --end-date END_DATE   End date for running CTSM simulation in ISO format.\n",
      "                        [default: 2021-01-01 00:00:00]\n",
      "  --run-from-postad     For transient runs only - should we start from the\n",
      "                        postad spinup or finidat? By default start from\n",
      "                        finidat, if this flag is used the postad run must be\n",
      "                        available.\n"
     ]
    }
   ],
   "source": [
    "run_neon --help"
   ]
  },
  {
   "cell_type": "markdown",
   "metadata": {},
   "source": [
    "________\n",
    "<h2> 2. Explore CLM model data </h2>\n",
    "\n",
    "Now that your simulation completed, we can explore the data.\n",
    "There are countless ways of analyzing and processing model data. This tutorial uses matplotlib. \n",
    "***"
   ]
  },
  {
   "cell_type": "markdown",
   "metadata": {},
   "source": [
    "<h4> 2.1 Locate model data </h4>\n",
    "When the simulation completed, the data are transferred to the `archive` directory. There are files that include data for every day of the simulation, as well as files that average model variables monthly. <p>\n",
    "\n",
    "*Run the code below to see a subset of the files listed.*"
   ]
  },
  {
   "cell_type": "code",
   "execution_count": null,
   "metadata": {},
   "outputs": [],
   "source": [
    "!ls ~/archive/$site.transient/lnd/hist/*2018*.nc |head -20"
   ]
  },
  {
   "cell_type": "markdown",
   "metadata": {},
   "source": [
    "The list includes the file path and file names.\n",
    "\n",
    "The file names are automatically generated and include\n",
    "* the simulation name, which includes\n",
    "    * the NEON site\n",
    "    * the type of simulation (here the simulation is \"transient\", meaning the model ran for the full length of available data)\n",
    "* the date of simulated data\n",
    "\n",
    "The files are saved in netcdf format (denoted with the `.nc` file extension), a file format commonly used for storing large, multi-dimensional scientific variables.\n",
    "Netcdf files are platform independent and self-describing; each file includes metadata that describes the data, including: **variables**, **dimensions**, and **attributes**.\n",
    "\n",
    "\n",
    "*[Is this useful or too much information?]* The figure below provides an example of data strucutre in a netcdf file. For example, this dataset has two variables (temperature and pericipation) stored in three-dimensional variables. It also has three dimensions (x, y, and time) which are one dimensional coordinates. It also includes two-dimensional coordinates (latitude and longitude). \n",
    "\n",
    "![Netcdf](https://gdfa.ugr.es/python/climate_data/img/xarray2.png)\n",
    "\n",
    "\n",
    "The NEON tower simulations generate two types of files:\n",
    "* `*h0*`: Variables that are averaged monthly. One file is available for every month of the simulation.\n",
    "* `*h1*`: Variables that are recorded every 30 minutes. Values are aggregated into one file for each day of the simulation. Each file includes 48 data points.\n",
    "****\n"
   ]
  },
  {
   "cell_type": "markdown",
   "metadata": {},
   "source": [
    "<h4>2.2 Preprocess and Explore Model Simulation Data </h4>\n",
    "\n",
    "This step has several components, which are broken into smaller steps\n"
   ]
  },
  {
   "cell_type": "markdown",
   "metadata": {},
   "source": [
    "<h5>2.2.1 Load Python Libraries</h5>\n",
    "\n",
    "*Run the below code to import the required python libraries*"
   ]
  },
  {
   "cell_type": "code",
   "execution_count": null,
   "metadata": {},
   "outputs": [],
   "source": [
    "## TODO: clean up imports\n",
    "#Import Libraries\n",
    "%matplotlib inline\n",
    "\n",
    "import os\n",
    "import sys\n",
    "import glob\n",
    "import time\n",
    "import argparse\n",
    "import requests\n",
    "\n",
    "import numpy as np\n",
    "import pandas as pd\n",
    "import xarray as xr\n",
    "\n",
    "\n",
    "from glob import glob\n",
    "from os.path import join, expanduser\n",
    "\n",
    "import matplotlib\n",
    "import matplotlib.pyplot as plt\n",
    "\n",
    "from scipy import stats\n"
   ]
  },
  {
   "cell_type": "markdown",
   "metadata": {},
   "source": [
    "<h5>2.2.2 Select Simulation Year</h5>\n",
    "\n",
    "For simplicity, we focus on analyzing and evaluating a single year of data. <p>\n",
    "\n",
    "The code below uses data for **2018**, but data are available through this year. You can select a different year by changing the year in the quotes below. <p> \n",
    "*Run the below code to identify the year of interest for making the plots. Note that the same year will be used to download observational data below*"
   ]
  },
  {
   "cell_type": "code",
   "execution_count": null,
   "metadata": {},
   "outputs": [],
   "source": [
    "#Specify the year below\n",
    "year = \"2018\"\n",
    "\n",
    "#Reading in the tower site selected above as a python variable\n",
    "neon_site = os.environ['site']"
   ]
  },
  {
   "cell_type": "markdown",
   "metadata": {},
   "source": [
    "<h5>2.2.3 Load model data files</h5>\n",
    "\n",
    "For reading the netCDF files, we are using the `xarray` Python package. You can learn more about [xarray on this website](http://xarray.pydata.org/en/stable/).\n",
    "\n",
    ">The variable `sim_path` points to the local directory where simulation data are stored. *If you changed the location in the above code, please update this path.*\n",
    "\n",
    "*Run the code below to load the model data files. Note that the code will print how many files were loaded*"
   ]
  },
  {
   "cell_type": "code",
   "execution_count": null,
   "metadata": {},
   "outputs": [],
   "source": [
    "sim_path = \"/home/user/archive/\"+neon_site+\".transient/lnd/hist/\"\n",
    "sim_files = sorted(glob(join(sim_path,neon_site+\".transient.clm2.h1.\"+year+\"*.nc\")))\n",
    "\n",
    "print(\"All Simulation files: [\", len(sim_files), \"files]\")\n",
    "#print(*sim_files,sep='\\n')"
   ]
  },
  {
   "cell_type": "markdown",
   "metadata": {},
   "source": [
    "<h5> 2.2.4 Open model data files </h5>\n",
    "\n",
    "Here we use the python function `xarray.open_mfdataset`, which opens multiple netcdf files as a single xarray dataset. For more information on this function, check [this link](\n",
    "http://xarray.pydata.org/en/stable/generated/xarray.open_mfdataset.html).\n",
    "\n",
    "*Run the below cell to read in the data files. Note that this step might take a few minutes.*"
   ]
  },
  {
   "cell_type": "code",
   "execution_count": null,
   "metadata": {},
   "outputs": [],
   "source": [
    "start = time.time()\n",
    "\n",
    "ds_ctsm = xr.open_mfdataset(sim_files, decode_times=True, combine='by_coords',parallel=True)\n",
    "\n",
    "end = time.time()\n",
    "print(\"Reading all simulation files took:\", end-start, \"s.\")\n"
   ]
  },
  {
   "cell_type": "markdown",
   "metadata": {},
   "source": [
    "<h5> 2.2.5 Optional Step: Explore simulation data </h5>\n",
    "\n",
    "*Run the below cell to find more information about the data*"
   ]
  },
  {
   "cell_type": "code",
   "execution_count": null,
   "metadata": {},
   "outputs": [],
   "source": [
    "ds_ctsm"
   ]
  },
  {
   "cell_type": "markdown",
   "metadata": {},
   "source": [
    "Here you can click on `Data Variables`, `Attributes`, `Deminsions`, and `coordinates` to expand and see the details. \n",
    "\n",
    "If you click on `Data Variables`, you will see a list of all the available variables. You can click on each variable to see a description of the variable (the `long_name`) and its `units`, as well as other information. Here are two questions to consider:\n",
    "\n",
    "**Questions to consider** \n",
    "1. What are the avaibale variables in the dataset?\n",
    "2. What is the `long_name` and `unit` of the variable `FSH`? \n",
    "3. Can you find the dimensions of this variable? \n",
    "\n",
    "**Tip**: Xarray has built-in plotting functions. For quick inspection of a variable, we can use `.plot()` to see it. Below, let's make a quick plot of the Gross Primary Production (`GPP`) variable:"
   ]
  },
  {
   "cell_type": "code",
   "execution_count": null,
   "metadata": {},
   "outputs": [],
   "source": [
    "ds_ctsm['GPP'].plot()"
   ]
  },
  {
   "cell_type": "code",
   "execution_count": null,
   "metadata": {},
   "outputs": [],
   "source": [
    "#Negin: Should we remove the next two blocks of code? \n",
    "#what we want from these files Not all the above...\n",
    "plot_vars = ['TBOT','FSH','GPP','AR','HR','FCEV', 'FCTR', 'FGEV','FSA','FIRA']"
   ]
  },
  {
   "cell_type": "code",
   "execution_count": null,
   "metadata": {},
   "outputs": [],
   "source": [
    "df_ctsm = pd.DataFrame({'time':ds_ctsm.time})\n",
    "\n",
    "for var in plot_vars:\n",
    "    field = np.ravel ( ds_ctsm[var])     \n",
    "    df_ctsm[var]=field\n"
   ]
  },
  {
   "cell_type": "markdown",
   "metadata": {},
   "source": [
    "________\n",
    "<h2> 3. Explore NEON Tower Observation Data </h2>\n",
    "\n",
    "<h4> 3.1 Load NEON data </h4>\n",
    "    \n",
    "The following code will download the NEON observational data files for the site and year specified above. \n",
    "\n",
    "*Run the two cells of code below. You will see what files are available.*"
   ]
  },
  {
   "cell_type": "code",
   "execution_count": null,
   "metadata": {},
   "outputs": [],
   "source": [
    "eval_dir = \"/home/user/evaluation_files/\"\n",
    "\n",
    "download_eval_files(neon_site, eval_dir)\n",
    "\n",
    "eval_path = os.path.join('/home/user/evaluation_files/',neon_site)\n",
    "\n",
    "eval_files = sorted(glob(join(eval_path,neon_site+\"_eval_\"+year+\"*.nc\")))\n",
    "\n",
    "print(\"All Observation files:\")\n",
    "print(*eval_files,sep='\\n')"
   ]
  },
  {
   "cell_type": "code",
   "execution_count": null,
   "metadata": {},
   "outputs": [],
   "source": [
    "start = time.time()\n",
    "\n",
    "ds_eval = xr.open_mfdataset(eval_files, decode_times=True, combine='by_coords')\n",
    "\n",
    "end = time.time()\n",
    "print(\"Reading all observation files took:\", end-start, \"s.\")"
   ]
  },
  {
   "cell_type": "markdown",
   "metadata": {},
   "source": [
    "<h4> 3.2 Optional Step: Explore NEON data </h4>"
   ]
  },
  {
   "cell_type": "markdown",
   "metadata": {},
   "source": [
    "Similar to above, you can explore NEON data by clicking to see details about the variables, coordinate, and attributes."
   ]
  },
  {
   "cell_type": "code",
   "execution_count": null,
   "metadata": {},
   "outputs": [],
   "source": [
    "ds_eval"
   ]
  },
  {
   "cell_type": "markdown",
   "metadata": {},
   "source": [
    "Let's quickly inspect the Net Radiation (`Rnet`) variable by making a quick plot:"
   ]
  },
  {
   "cell_type": "code",
   "execution_count": null,
   "metadata": {},
   "outputs": [],
   "source": [
    "ds_eval['Rnet'].plot()"
   ]
  },
  {
   "cell_type": "code",
   "execution_count": null,
   "metadata": {},
   "outputs": [],
   "source": [
    "#what we want from these files not all the above...\n",
    "eval_vars = ['NEE','FSH','EFLX_LH_TOT','GPP']"
   ]
  },
  {
   "cell_type": "markdown",
   "metadata": {},
   "source": [
    "__________\n",
    "## 4. Compare CTSM and NEON latent heat flux data\n",
    "\n",
    "So far we read files of observational and model data. In this section we will compare observed and simulated **latent heat fluxes**. You can also explore other available variables with this code.\n",
    "\n",
    "\n",
    "First we need to process the data into a common format for easier analysis. \n",
    "\n",
    "*Run the below cell of code*"
   ]
  },
  {
   "cell_type": "code",
   "execution_count": null,
   "metadata": {},
   "outputs": [],
   "source": [
    "#Convert to a Pandas Dataframe for easier handling:\n",
    "df_eval = pd.DataFrame({'time':ds_eval.time})\n",
    "\n",
    "for var in eval_vars:\n",
    "    field = np.ravel ( ds_eval[var])     \n",
    "    df_eval[var]=field\n",
    "\n",
    "#-- extract year, month, day, hour information from time\n",
    "df_eval['year'] = df_eval['time'].dt.year\n",
    "df_eval['month'] = df_eval['time'].dt.month\n",
    "df_eval['day'] = df_eval['time'].dt.day\n",
    "df_eval['hour'] = df_eval['time'].dt.hour\n",
    "\n",
    "#-- make df_all that includes both obs and sim\n",
    "df_all = df_eval\n",
    "\n",
    "plot_vars = ['TBOT','FSH','GPP','AR','HR','FCEV', 'FCTR', 'FGEV','FSA','FIRA']\n",
    "\n",
    "#-- add simulation data to df_all:\n",
    "for var in plot_vars:\n",
    "    sim_var_name = \"sim_\"+var\n",
    "    #-- shift simulation data by one\n",
    "    df_all[sim_var_name]=df_ctsm[var].shift(-1).values"
   ]
  },
  {
   "cell_type": "markdown",
   "metadata": {},
   "source": [
    "## What is latent heat flux?\n",
    "\n",
    "Latent heat flux is the energy for water evaporation from the ecosystem. It is measured by NEON towers and is also simulated by CLM. Here we are going to explore how well CLM simulates the observed tower data.\n",
    "\n",
    "Latent heat flux is a combination of plant transpiration, evaporation from leaf surfaces (e.g., from dew, after precipitation events), and evaporation from the soil. \n",
    "\n",
    "NEON towers cannot distinguish how much each of these processes contributes to latent heat flux, but CLM simulations can help us to disentangle this. "
   ]
  },
  {
   "cell_type": "markdown",
   "metadata": {},
   "source": [
    "Not all the observation variables are in the CLM history output files. But we can calculate them from their components. \n",
    "\n",
    "For example, we can calulate the latenet heat flux as the sum of of plant transpiration, canopy evaporation, and ground evaporation. \n",
    "\n",
    "$$ Latent Heat Flux = FCEV +FCTR +FGEV $$\n",
    "\n",
    "$FCEV$ : Canopy evaporation in W/m^2\n",
    "\n",
    "$FCTR$ : Canopy transpiration in W/m^2\n",
    "\n",
    "$FGEV$ : Ground evaporation in W/m^2\n"
   ]
  },
  {
   "cell_type": "code",
   "execution_count": null,
   "metadata": {},
   "outputs": [],
   "source": [
    "clm_var = 'sim_EFLX_LH_TOT'\n",
    "\n",
    "#EFLX_LH_TOT = FCEV + FCTR +FGEV\n",
    "df_all [clm_var] = df_ctsm['FCEV'].shift(-1).values \\\n",
    "                 + df_ctsm['FCTR'].shift(-1).values \\\n",
    "                 + df_ctsm['FGEV'].shift(-1).values"
   ]
  },
  {
   "cell_type": "markdown",
   "metadata": {},
   "source": [
    "# Simple Visualization"
   ]
  },
  {
   "cell_type": "markdown",
   "metadata": {},
   "source": [
    "Let's create a time-series plot that compares daily average latent heat flux from observation (neon) and simulations. \n",
    "\n",
    "But first, we should calculate the daily average. "
   ]
  },
  {
   "cell_type": "code",
   "execution_count": null,
   "metadata": {},
   "outputs": [],
   "source": [
    "df_daily = df_all.groupby(['year','month','day']).mean().reset_index()\n",
    "df_daily['time']=pd.to_datetime(df_daily[[\"year\", \"month\", \"day\"]])"
   ]
  },
  {
   "cell_type": "code",
   "execution_count": null,
   "metadata": {},
   "outputs": [],
   "source": [
    "plot_var = 'EFLX_LH_TOT'\n",
    "sim_var = 'sim_'+plot_var\n",
    "\n",
    "plot_var_desc = \"Latent Heat Flux\"\n",
    "plot_var_unit= \"Wm-2\""
   ]
  },
  {
   "cell_type": "markdown",
   "metadata": {},
   "source": [
    "Now, that we calculate the daily average we can easily create the plots using Python matplotlib package:"
   ]
  },
  {
   "cell_type": "code",
   "execution_count": null,
   "metadata": {},
   "outputs": [],
   "source": [
    "plt.figure(num=None, figsize=(13, 5),  facecolor='w', edgecolor='k')\n",
    "        \n",
    "ax = plt.gca()\n",
    "df_daily.plot ( x= 'time', y = plot_var , marker = 'o' ,ax =ax , color = 'b',label=\"NEON\")\n",
    "df_daily.plot ( x= 'time', y = 'sim_'+plot_var , marker = 'o' ,ax =ax , color = 'r',label=\"CLM\")\n",
    "\n",
    "plt.xlabel('Time', fontsize=17)\n",
    "plt.ylabel(plot_var_desc+\" [\"+plot_var_unit+\"]\", fontsize=17)\n",
    "plt.title(year+\" \"+neon_site, fontweight='bold',fontsize=17)\n",
    "plt.show()\n",
    "plt.savefig(\"2018_ABBY_TSeries_Daily_Ave_V2.png\")"
   ]
  },
  {
   "cell_type": "markdown",
   "metadata": {},
   "source": [
    "Now, let's add the daily standard deviation as a shaded area on top:"
   ]
  },
  {
   "cell_type": "code",
   "execution_count": null,
   "metadata": {},
   "outputs": [],
   "source": [
    "df_daily_std = df_all.groupby(['year','month','day']).std().reset_index()\n",
    "df_daily_std['time'] = pd.to_datetime(df_daily_std[[\"year\", \"month\", \"day\"]])\n",
    "\n",
    "plt.figure(num=None, figsize=(13, 5),  facecolor='w', edgecolor='k')\n",
    "\n",
    "plt.plot ( df_daily.time, df_daily[plot_var], marker = 'o' , color = 'b',label=\"NEON\")\n",
    "plt.plot ( df_daily.time, df_daily[sim_var], marker = 'o' , color = 'r',label=\"CLM\")\n",
    "\n",
    "plt.fill_between(df_daily.time, df_daily.EFLX_LH_TOT-df_daily_std.EFLX_LH_TOT, df_daily.EFLX_LH_TOT+df_daily_std.EFLX_LH_TOT ,alpha=0.1, color = 'b')\n",
    "plt.fill_between(df_daily.time, df_daily.sim_EFLX_LH_TOT-df_daily_std.sim_EFLX_LH_TOT, df_daily.sim_EFLX_LH_TOT+df_daily_std.sim_EFLX_LH_TOT ,alpha=0.1, color = 'r')\n",
    "\n",
    "plt.legend()\n",
    "plt.xlabel('Time', fontsize=17)\n",
    "plt.ylabel(plot_var_desc+\" [\"+plot_var_unit+\"]\", fontsize=17)\n",
    "plt.title(year+\" \"+neon_site, fontweight='bold',fontsize=17)\n",
    "plt.show()\n",
    "plt.savefig(\"2018_ABBY_TSeriesShaded_Daily_Ave_V2.png\")"
   ]
  },
  {
   "cell_type": "markdown",
   "metadata": {},
   "source": [
    "We can see that there are areas where CLM under-predicts or over-predicts the NEON observation data.\n",
    "\n",
    "**Question) At your site of interest, when does CLM shows the best and worst performance in predicting Latent Heat Flux ?**\n",
    "\n",
    "**Question) When is the Latent Heat Flux highest at this site? When is it lowest?**\n",
    "\n",
    "**Question) Does CLM match NEON tower observations?**\n",
    "\n",
    "\n",
    "*****\n",
    "\n",
    "Now we can take a look at the components of Latent Heat Flux. As we mentioned above the componenets of the fluxes are not available in the neon dataset. \n",
    "\n",
    "But we can find the components from the CLM simulation data. Therefore, we can find out how different components of Latent Heat Flux is contributing to the total over time. \n",
    "\n",
    "For this, let's look at the monthly average data:"
   ]
  },
  {
   "cell_type": "code",
   "execution_count": null,
   "metadata": {},
   "outputs": [],
   "source": [
    "df_monthly = df_all.groupby(['year','month']).mean().reset_index()\n",
    "df_monthly[\"day\"]=15\n",
    "df_monthly['time']=pd.to_datetime(df_monthly[[\"year\", \"month\",\"day\"]])\n"
   ]
  },
  {
   "cell_type": "markdown",
   "metadata": {},
   "source": [
    "Now let's make a barplot showing components of Latent Heat Flux over different months:\n"
   ]
  },
  {
   "cell_type": "code",
   "execution_count": null,
   "metadata": {},
   "outputs": [],
   "source": [
    "def line_format(label):\n",
    "    \"\"\"\n",
    "    Helper function to convert time label to the format of pandas line plot\n",
    "    \"\"\"\n",
    "    month = label.month_name()[:3]\n",
    "    if month == 'Jan':\n",
    "        month += f'\\n{label.year}'\n",
    "    return month\n",
    "\n",
    "\n",
    "plt.figure(num=None, figsize=(13, 5),  facecolor='w', edgecolor='k')\n",
    "        \n",
    "ax = plt.gca()\n",
    "\n",
    "df_monthly.plot ( x= 'time', y = 'EFLX_LH_TOT' , marker = 'o' ,ax =ax , color = 'black',label=\"NEON Latent Heat Flux\",use_index=False)\n",
    "df_monthly[['time','sim_FCEV','sim_FCTR','sim_FGEV']].plot.bar ( x= 'time',stacked='True',ax=ax,rot=0)\n",
    "\n",
    "ax.set_xticklabels(map(line_format, df_monthly.time))\n",
    "\n",
    "plt.xlabel('Time', fontsize=18)\n",
    "plt.ylabel('Latent Heat Flux', fontsize=16)\n",
    "        \n",
    "plt.title(year+\" \"+neon_site, fontweight='bold')\n",
    "plt.show()"
   ]
  },
  {
   "cell_type": "markdown",
   "metadata": {},
   "source": [
    "Here we are showing the observation (NEON) Latent Heat Flux over the barplot.\n",
    "\n",
    "**Question) Do trends in Canopy Transpiration (FCTV) mirror the trends in latent heat fluxes? What times of year are trends most similar?**\n",
    "\n",
    "**Question) For your neon site, when does the Canopy Transpiration (FCTV) is the highest contributor to the total CLM latent heat flux?**\n",
    "\n",
    "**Question)  Do trends in Canopy Transpiration (FCTV) mirror the trends in latent heat fluxes?  Are these also times when there are biases in CLM simulations of latent heat flux?**\n",
    "\n",
    "**Question) During which months, Canopy Evaporation (FCEV) is the lowest contributor to the total CLM latent heat flux?**\n",
    "\n",
    "**Question) For each month, what does the total bar length show in this plot?**\n"
   ]
  },
  {
   "cell_type": "markdown",
   "metadata": {},
   "source": [
    "For checking how contrbitutions of each component of Latent Heat Flux changes over different months, let's look at a more advanced plot with two y axis. "
   ]
  },
  {
   "cell_type": "code",
   "execution_count": null,
   "metadata": {},
   "outputs": [],
   "source": [
    "df_monthly ['sim_FCEV_perc']= df_monthly ['sim_FCEV']/(df_monthly ['sim_FCEV']+df_monthly ['sim_FCTR']+df_monthly ['sim_FGEV'])*100\n",
    "df_monthly ['sim_FCTR_perc']= df_monthly ['sim_FCTR']/(df_monthly ['sim_FCEV']+df_monthly ['sim_FCTR']+df_monthly ['sim_FGEV'])*100\n",
    "df_monthly ['sim_FGEV_perc']= df_monthly ['sim_FGEV']/(df_monthly ['sim_FCEV']+df_monthly ['sim_FCTR']+df_monthly ['sim_FGEV'])*100\n",
    "\n",
    "plt.figure(num=None, figsize=(13, 7),  facecolor='w', edgecolor='k')\n",
    "        \n",
    "ax = plt.gca()\n",
    "\n",
    "#df_monthly.plot ( x= 'time', y = 'EFLX_LH_TOT' , marker = 'o' ,ax =ax , color = 'black',label=\"NEON EFLX_LH_TOT\",use_index=False)\n",
    "df_monthly[['time','sim_FCEV_perc','sim_FCTR_perc','sim_FGEV_perc']].plot.bar ( x= 'time',stacked='True',ax=ax,rot=0)\n",
    "\n",
    "ax.set_xticklabels(map(line_format, df_monthly.time))\n",
    "ax.set_ylabel('% Components Latent Heat Flux', fontsize=16)\n",
    "ax.legend(bbox_to_anchor=(1.04,0), loc=\"lower left\",labels=[\"% FCEV\",\"% FCTR\",\"% FGEV\"])\n",
    "ax2 = ax.twinx()\n",
    "df_monthly.plot ( x= 'time', y = 'sim_EFLX_LH_TOT' , marker = 'o' ,ax =ax2 , color = 'b',label=\"CLM Latent Heat\",use_index=False)\n",
    "df_monthly.plot ( x= 'time', y = 'EFLX_LH_TOT' , marker = 'o' ,ax =ax2 , color = 'r',label=\"NEON Latent Heat\",use_index=False)\n",
    "\n",
    "plt.ylabel('Latent Heat Flux [W/m2]', fontsize=16)\n",
    "plt.legend(bbox_to_anchor=(1.04,1), loc=\"upper left\")\n",
    "\n",
    "plt.title(year+\" \"+neon_site, fontweight='bold')\n",
    "plt.show()"
   ]
  },
  {
   "cell_type": "code",
   "execution_count": null,
   "metadata": {},
   "outputs": [],
   "source": []
  },
  {
   "cell_type": "markdown",
   "metadata": {},
   "source": [
    "______________"
   ]
  },
  {
   "cell_type": "markdown",
   "metadata": {},
   "source": [
    "For better quantifying and describing the performance of CLM simulation and compare it with NEON observation, we can also utilize scatter plots.\n",
    "\n",
    "First, let's define a generic function that plot scatter diagrams and add a regression line on top of it. "
   ]
  },
  {
   "cell_type": "code",
   "execution_count": null,
   "metadata": {},
   "outputs": [],
   "source": [
    "def detailed_scatter (x, y, color):\n",
    "    plt.scatter (x,y, marker=\"o\",color = color)\n",
    "    slope, intercept, r_value, p_value, std_err = stats.linregress(x,y)\n",
    "    line = slope*x+intercept\n",
    "    plt.plot(x,line,'black', label='y={:.2f}x+{:.2f}'.format(slope,intercept)+\" (R2=\"+\"{:.2f}\".format(r_value)+\")\")\n",
    "    plt.legend(fontsize=13)"
   ]
  },
  {
   "cell_type": "code",
   "execution_count": null,
   "metadata": {},
   "outputs": [],
   "source": [
    "plt.figure(num=None, figsize=(15, 5),  facecolor='w', edgecolor='k')\n",
    "\n",
    "plt.subplot(1, 3, 1)\n",
    "detailed_scatter (df_daily.sim_FCEV, df_daily.sim_EFLX_LH_TOT, '#1f77b4')\n",
    "plt.ylabel('Latent Heat [Wm-2]')\n",
    "plt.xlabel('Canopy Evaporation [Wm-2]')\n",
    "\n",
    "plt.subplot(1, 3, 2)\n",
    "detailed_scatter (df_daily.sim_FCTR, df_daily.sim_EFLX_LH_TOT, '#ff7f0e')\n",
    "\n",
    "plt.ylabel('Latent Heat [Wm-2]')\n",
    "plt.xlabel('Canopy Transpiration [Wm-2]')\n",
    "\n",
    "plt.subplot(1, 3, 3)\n",
    "detailed_scatter (df_daily.sim_FGEV, df_daily.sim_EFLX_LH_TOT,'#2ca02c')\n",
    "\n",
    "plt.ylabel('Latent Heat [Wm-2]')\n",
    "plt.xlabel('Ground Evaporation [Wm-2]')\n",
    "\n",
    "plt.suptitle(year+\" \"+neon_site+\" Scatter Plots\", fontweight='bold')\n",
    "\n",
    "plt.tight_layout()\n",
    "plt.show()"
   ]
  },
  {
   "cell_type": "code",
   "execution_count": null,
   "metadata": {},
   "outputs": [],
   "source": []
  },
  {
   "cell_type": "markdown",
   "metadata": {},
   "source": [
    "Similarly, we can create these plots for different seasons:"
   ]
  },
  {
   "cell_type": "code",
   "execution_count": null,
   "metadata": {},
   "outputs": [],
   "source": [
    "df_daily['season'] = ((df_daily['month']%12+3)//3).map({1:'DJF', 2: 'MAM', 3:'JJA', 4:'SON'})\n"
   ]
  },
  {
   "cell_type": "code",
   "execution_count": null,
   "metadata": {},
   "outputs": [],
   "source": [
    "\n",
    "fig= plt.figure(num=None, figsize=(18,12),  facecolor='w', edgecolor='k')\n",
    "\n",
    "season = 'MAM'\n",
    "df_season =  df_daily[df_daily['season']==season]\n",
    "\n",
    "plt.subplot(3, 4, 1)\n",
    "detailed_scatter (df_season.sim_FCEV, df_season.sim_EFLX_LH_TOT, '#1f77b4')\n",
    "plt.title(season, fontweight='bold')\n",
    "plt.ylabel('Latent Heat [Wm-2]')\n",
    "plt.xlabel('Canopy Evaporation [Wm-2]')\n",
    "\n",
    "plt.subplot(3, 4, 5)\n",
    "detailed_scatter (df_season.sim_FCTR, df_season.sim_EFLX_LH_TOT, '#ff7f0e')\n",
    "plt.ylabel('Latent Heat [Wm-2]')\n",
    "plt.xlabel('Canopy Transpiration [Wm-2]')\n",
    "\n",
    "\n",
    "plt.subplot(3, 4, 9)\n",
    "detailed_scatter (df_season.sim_FGEV, df_season.sim_EFLX_LH_TOT,'#2ca02c')\n",
    "plt.ylabel('Latent Heat [Wm-2]')\n",
    "plt.xlabel('Ground Evaporation [Wm-2]')\n",
    "\n",
    "\n",
    "season = 'JJA'\n",
    "df_season =  df_daily[df_daily['season']==season]\n",
    "\n",
    "plt.subplot(3, 4, 2)\n",
    "detailed_scatter (df_season.sim_FCEV, df_season.sim_EFLX_LH_TOT, '#1f77b4')\n",
    "plt.title(season, fontweight='bold')\n",
    "plt.ylabel('Latent Heat [Wm-2]')\n",
    "plt.xlabel('Canopy Evaporation [Wm-2]')\n",
    "\n",
    "plt.subplot(3, 4, 6)\n",
    "detailed_scatter (df_season.sim_FCTR, df_season.sim_EFLX_LH_TOT, '#ff7f0e')\n",
    "plt.ylabel('Latent Heat [Wm-2]')\n",
    "plt.xlabel('Canopy Transpiration [Wm-2]')\n",
    "\n",
    "plt.subplot(3, 4, 10)\n",
    "detailed_scatter (df_season.sim_FGEV, df_season.sim_EFLX_LH_TOT,'#2ca02c')\n",
    "plt.ylabel('Latent Heat [Wm-2]')\n",
    "plt.xlabel('Ground Evaporation [Wm-2]')\n",
    "\n",
    "\n",
    "season = 'SON'\n",
    "df_season =  df_daily[df_daily['season']==season]\n",
    "\n",
    "plt.subplot(3, 4, 3)\n",
    "detailed_scatter (df_season.sim_FCEV, df_season.sim_EFLX_LH_TOT, '#1f77b4')\n",
    "plt.title(season, fontweight='bold')\n",
    "plt.ylabel('Latent Heat [Wm-2]')\n",
    "plt.xlabel('Canopy Evaporation [Wm-2]')\n",
    "\n",
    "plt.subplot(3, 4, 7)\n",
    "detailed_scatter (df_season.sim_FCTR, df_season.sim_EFLX_LH_TOT, '#ff7f0e')\n",
    "plt.ylabel('Latent Heat[Wm-2]')\n",
    "plt.xlabel('Canopy Transpiration [Wm-2]')\n",
    "\n",
    "plt.subplot(3, 4, 11)\n",
    "detailed_scatter (df_season.sim_FGEV, df_season.sim_EFLX_LH_TOT,'#2ca02c')\n",
    "plt.ylabel('Latent Heat [Wm-2]')\n",
    "plt.xlabel('Ground Evaporation [Wm-2]')\n",
    "\n",
    "season = 'DJF'\n",
    "df_season =  df_daily[df_daily['season']==season]\n",
    "\n",
    "plt.subplot(3, 4, 4)\n",
    "detailed_scatter (df_season.sim_FCEV, df_season.sim_EFLX_LH_TOT, '#1f77b4')\n",
    "plt.title(season, fontweight='bold')\n",
    "plt.ylabel('Latent Heat [Wm-2]')\n",
    "plt.xlabel('Canopy Evaporation [Wm-2]')\n",
    "\n",
    "plt.subplot(3, 4, 8)\n",
    "detailed_scatter (df_season.sim_FCTR, df_season.sim_EFLX_LH_TOT, '#ff7f0e')\n",
    "plt.ylabel('Latent Heat [Wm-2]')\n",
    "plt.xlabel('Canopy Transpiration [Wm-2]')\n",
    "\n",
    "plt.subplot(3, 4, 12)\n",
    "detailed_scatter (df_season.sim_FGEV, df_season.sim_EFLX_LH_TOT, '#2ca02c')\n",
    "plt.ylabel('Latent Heat [Wm-2]')\n",
    "plt.xlabel('Ground Evaporation [Wm-2]')\n",
    "\n",
    "fig.suptitle(year+\" \"+neon_site+ \" Seasonal Scatter Plots\", fontweight='bold')\n",
    "fig.tight_layout()\n",
    "\n",
    "plt.show()"
   ]
  },
  {
   "cell_type": "markdown",
   "metadata": {},
   "source": [
    "--------\n",
    "Now, let's take a look at how latent heat flux changes during the day. For this we should take a look at the diurnal cycle of the plots. \n",
    "\n",
    "For this we need to calculate the average of the same hour from different days. "
   ]
  },
  {
   "cell_type": "code",
   "execution_count": null,
   "metadata": {},
   "outputs": [],
   "source": [
    "diel_df_mean = df_all.groupby('hour').mean().reset_index()\n",
    "diel_df_std = df_all.groupby('hour').std().reset_index()\n",
    "\n",
    "diel_df_mean['EFLX_LH_TOT_bias'] = diel_df_mean['sim_EFLX_LH_TOT']- diel_df_mean['EFLX_LH_TOT']\n",
    "print (diel_df_mean)"
   ]
  },
  {
   "cell_type": "code",
   "execution_count": null,
   "metadata": {},
   "outputs": [],
   "source": [
    "plt.figure(num=None, figsize=(13, 9),  facecolor='w', edgecolor='k')\n",
    "        \n",
    "plt.subplot(2, 1, 1)  \n",
    "        \n",
    "plt.plot ( diel_df_mean.hour, diel_df_mean['EFLX_LH_TOT'], marker = 'o' , color = 'b',label=\"NEON\")\n",
    "plt.plot ( diel_df_mean.hour, diel_df_mean['sim_EFLX_LH_TOT'], marker = 'o' , color = 'r',label=\"CLM\")\n",
    "\n",
    "plt.fill_between(diel_df_mean.hour, diel_df_mean.EFLX_LH_TOT-diel_df_std.EFLX_LH_TOT, diel_df_mean.EFLX_LH_TOT+diel_df_std.EFLX_LH_TOT ,alpha=0.1, color = 'b')\n",
    "plt.fill_between(diel_df_mean.hour, diel_df_mean.sim_EFLX_LH_TOT-diel_df_std.sim_EFLX_LH_TOT, diel_df_mean.sim_EFLX_LH_TOT+diel_df_std.sim_EFLX_LH_TOT ,alpha=0.1, color = 'r')\n",
    "plt.ylabel('Latent Heat Flux [Wm-2]', fontsize=16)\n",
    "\n",
    "plt.title(\"Diurnal Cycle of Latent Heat Flux \"+neon_site+\" \"+year, fontweight='bold')\n",
    "plt.legend()\n",
    "plt.subplot(4, 1, 3)  \n",
    "\n",
    "ax = plt.gca()    \n",
    "diel_df_mean.plot ( x= 'hour', y = 'EFLX_LH_TOT_bias' , marker = 'o' ,ax =ax , color = 'black',label='Bias')\n",
    "plt.xlabel('Hour', fontsize=18)\n",
    "plt.ylabel('Bias', fontsize=16)\n",
    "plt.show()"
   ]
  },
  {
   "cell_type": "code",
   "execution_count": null,
   "metadata": {},
   "outputs": [],
   "source": [
    "diel_df_mean['sim_FCEV_perc']= diel_df_mean ['sim_FCEV']/(diel_df_mean ['sim_FCEV']+diel_df_mean ['sim_FCTR']+diel_df_mean ['sim_FGEV'])*100\n",
    "diel_df_mean ['sim_FCTR_perc']= diel_df_mean ['sim_FCTR']/(diel_df_mean ['sim_FCEV']+diel_df_mean ['sim_FCTR']+diel_df_mean ['sim_FGEV'])*100\n",
    "diel_df_mean ['sim_FGEV_perc']= diel_df_mean ['sim_FGEV']/(diel_df_mean ['sim_FCEV']+diel_df_mean ['sim_FCTR']+diel_df_mean ['sim_FGEV'])*100\n"
   ]
  },
  {
   "cell_type": "code",
   "execution_count": null,
   "metadata": {},
   "outputs": [],
   "source": [
    "from matplotlib import gridspec\n",
    "\n",
    "fig= plt.figure(num=None, figsize=(13, 10),  facecolor='w', edgecolor='k')\n",
    "\n",
    "gs = gridspec.GridSpec(3, 1, height_ratios=[3, 1, 2]) \n",
    "\n",
    "ax0 = plt.subplot(gs[0])\n",
    "        \n",
    "ax0.plot ( diel_df_mean.hour, diel_df_mean['EFLX_LH_TOT'], marker = 'o' , color = 'b',label=\"NEON\")\n",
    "ax0.plot ( diel_df_mean.hour, diel_df_mean['sim_EFLX_LH_TOT'], marker = 'o' , color = 'r',label=\"CLM\")\n",
    "\n",
    "ax0.fill_between(diel_df_mean.hour, diel_df_mean.EFLX_LH_TOT-diel_df_std.EFLX_LH_TOT, diel_df_mean.EFLX_LH_TOT+diel_df_std.EFLX_LH_TOT ,alpha=0.1, color = 'b')\n",
    "ax0.fill_between(diel_df_mean.hour, diel_df_mean.sim_EFLX_LH_TOT-diel_df_std.sim_EFLX_LH_TOT, diel_df_mean.sim_EFLX_LH_TOT+diel_df_std.sim_EFLX_LH_TOT ,alpha=0.1, color = 'r')\n",
    "plt.ylabel('Latent Heat Flux [Wm-2]', fontsize=16)\n",
    "plt.legend()\n",
    "plt.title(\"Diurnal Cycle of Latent Heat Flux \"+neon_site+\" \"+year, fontweight='bold')\n",
    "\n",
    "ax1 = plt.subplot(gs[1])\n",
    "diel_df_mean.plot ( x= 'hour', y = 'EFLX_LH_TOT_bias' , marker = 'o' ,ax =ax1 , color = 'black',label='Bias')\n",
    "plt.xlabel('', fontsize=18)\n",
    "plt.ylabel('Bias', fontsize=16)\n",
    "\n",
    "ax2 = plt.subplot(gs[2])\n",
    "diel_df_mean[['hour','sim_FCEV','sim_FCTR','sim_FGEV']].plot.bar ( x= 'hour',stacked='True',ax=ax2,rot=0)\n",
    "plt.ylabel('%Latent Heat Components', fontsize=16)\n",
    "plt.xlabel('Hour', fontsize=18)\n",
    "\n",
    "plt.tight_layout()\n",
    "\n",
    "fig.show()"
   ]
  },
  {
   "cell_type": "markdown",
   "metadata": {},
   "source": [
    "**Question: How does different components of LH Flux contributes to the total latent heat flux during the day?**"
   ]
  },
  {
   "cell_type": "markdown",
   "metadata": {},
   "source": [
    "___________________\n",
    "## Soil Profiles:\n",
    "\n",
    "Now, let's take a look at the soil profile ***** (Ask Danica)\n",
    "\n"
   ]
  },
  {
   "cell_type": "code",
   "execution_count": null,
   "metadata": {},
   "outputs": [],
   "source": [
    "ds_ctsm.TSOI.isel(levgrnd=(slice(0,9))).plot(x=\"time\",yincrease=False, robust=True,cmap='YlOrRd',figsize=(15, 5))\n"
   ]
  },
  {
   "cell_type": "markdown",
   "metadata": {},
   "source": [
    "<br><br>Congratulations - you've walked through the basic steps of running a neon case and visualize it.  You're all set for some of the more advanced tutorials now. "
   ]
  },
  {
   "cell_type": "code",
   "execution_count": null,
   "metadata": {},
   "outputs": [],
   "source": []
  }
 ],
 "metadata": {
  "kernelspec": {
   "display_name": "Python [conda env:default] *",
   "language": "python",
   "name": "conda-env-default-py"
  },
  "language_info": {
   "codemirror_mode": {
    "name": "ipython",
    "version": 3
   },
   "file_extension": ".py",
   "mimetype": "text/x-python",
   "name": "python",
   "nbconvert_exporter": "python",
   "pygments_lexer": "ipython3",
   "version": "3.7.8"
  }
 },
 "nbformat": 4,
 "nbformat_minor": 4
}
