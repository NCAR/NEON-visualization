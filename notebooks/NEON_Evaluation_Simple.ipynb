{
 "cells": [
  {
   "cell_type": "markdown",
   "metadata": {},
   "source": [
    "# Evaluating CTSM Simulations at NEON Tower Sites -- Tutorial \n",
    "\n",
    "This tutorial is an introduction to evaluating CTSM at NEON tower sites.  It will provides example evaluation of the simulation results against NEON tower observations.  \n",
    "\n",
    "***\n",
    "**The tutorial uses a Jupyter Notebook.** A Jupyter Notebook is an interactive computing environment that enables the creation and sharing of documents that contain discrete cells of text or documentation and executable code, including plots. It allows users to access, run, and edit the code in a browser. To interact with this notebook:\n",
    "\n",
    "- Execute or \"run\" cells of executable code (cells denoted with '[ ]:') using the play button in the menu at the top (see below image)\n",
    "\n",
    "- The results of running code, such as plots, will appear below that cell\n",
    "\n",
    "- Each step must be followed in order, otherwise you may encounter errors\n",
    "\n",
    "![run cell](https://problemsolvingwithpython.com/02-Jupyter-Notebooks/images/run_cell.png)\n",
    "\n",
    "For more information on Jupyter notebooks please see their [user guide](https://jupyter-notebook-beginner-guide.readthedocs.io/en/latest/what_is_jupyter.html). \n",
    "\n",
    "***"
   ]
  },
  {
   "cell_type": "markdown",
   "metadata": {},
   "source": [
    "## In this tutorial\n",
    "\n",
    "The tutorial has several components. Below you will find steps to: \n",
    "1. Explore CTSM model data\n",
    "1. Explore NEON observation data\n",
    "1. Compare CTSM and NEON latent heat flux data"
   ]
  },
  {
   "cell_type": "markdown",
   "metadata": {},
   "source": [
    "________\n",
    "<h2> 1. Explore CTSM model data </h2>\n",
    "\n",
    "Now that your simulation completed, we can explore the data.\n",
    "There are countless ways of analyzing and processing model data. This tutorial uses matplotlib. \n",
    "***"
   ]
  },
  {
   "cell_type": "markdown",
   "metadata": {},
   "source": [
    "First, set the NEON site that you ran in the cell below.\n",
    "\n",
    "The tutorial is currently set to use the ABBY site. If you ran a simulation for a different tower, please change the 4-character site name in quotes below to the same as your simulation. "
   ]
  },
  {
   "cell_type": "code",
   "execution_count": 1,
   "metadata": {},
   "outputs": [],
   "source": [
    "#Change the 4-character NEON site below.\n",
    "neon_site = \"ABBY\""
   ]
  },
  {
   "cell_type": "markdown",
   "metadata": {},
   "source": [
    "<h4> 1.1 Locate model data </h4>\n",
    "When the simulation completed, the data are transferred to the `archive` directory. There are files that include data for every day of the simulation, as well as files that average model variables monthly. <p>\n",
    "\n",
    "*Run the code below to see a subset of the files listed.*"
   ]
  },
  {
   "cell_type": "code",
   "execution_count": null,
   "metadata": {},
   "outputs": [],
   "source": [
    "!ls ~/archive/$site.transient/lnd/hist/*2018*.nc |head -20"
   ]
  },
  {
   "cell_type": "markdown",
   "metadata": {},
   "source": [
    "The list includes the file path and file names.\n",
    "\n",
    "The file names are automatically generated and include\n",
    "* the simulation name, which includes\n",
    "    * the NEON site\n",
    "    * the type of simulation (here the simulation is \"transient\", meaning the model ran for the full length of available data)\n",
    "* the date of simulated data\n",
    "\n",
    "The files are saved in netcdf format (denoted with the `.nc` file extension), a file format commonly used for storing large, multi-dimensional scientific variables.\n",
    "Netcdf files are platform independent and self-describing; each file includes metadata that describes the data, including: **variables**, **dimensions**, and **attributes**.\n",
    "\n",
    "\n",
    "*[Is this useful or too much information?]* The figure below provides an example of data strucutre in a netcdf file. For example, this dataset has two variables (temperature and pericipation) stored in three-dimensional variables. It also has three dimensions (x, y, and time) which are one dimensional coordinates. It also includes two-dimensional coordinates (latitude and longitude). \n",
    "\n",
    "![Netcdf](https://gdfa.ugr.es/python/climate_data/img/xarray2.png)\n",
    "\n",
    "\n",
    "The NEON tower simulations generate two types of files:\n",
    "* `*h0*`: Variables that are averaged monthly. One file is available for every month of the simulation.\n",
    "* `*h1*`: Variables that are recorded every 30 minutes. Values are aggregated into one file for each day of the simulation. Each file includes 48 data points.\n",
    "****\n"
   ]
  },
  {
   "cell_type": "markdown",
   "metadata": {},
   "source": [
    "<h4>1.2 Preprocess and Explore Model Simulation Data </h4>\n",
    "\n",
    "This step has several components, which are broken into smaller steps\n"
   ]
  },
  {
   "cell_type": "markdown",
   "metadata": {},
   "source": [
    "<h5>1.2.1 Load Python Libraries</h5>\n",
    "\n",
    "*Run the below code to import the required python libraries*"
   ]
  },
  {
   "cell_type": "code",
   "execution_count": null,
   "metadata": {},
   "outputs": [],
   "source": [
    "## TODO: clean up imports\n",
    "#Import Libraries\n",
    "%matplotlib inline\n",
    "\n",
    "import os\n",
    "import sys\n",
    "import glob\n",
    "import time\n",
    "import argparse\n",
    "import requests\n",
    "\n",
    "import numpy as np\n",
    "import pandas as pd\n",
    "import xarray as xr\n",
    "\n",
    "\n",
    "from glob import glob\n",
    "from os.path import join, expanduser\n",
    "\n",
    "import matplotlib\n",
    "import matplotlib.pyplot as plt\n",
    "\n",
    "from scipy import stats\n"
   ]
  },
  {
   "cell_type": "markdown",
   "metadata": {},
   "source": [
    "<h5>1.2.2 Select Simulation Year</h5>\n",
    "\n",
    "For simplicity, we focus on analyzing and evaluating a single year of data. <p>\n",
    "\n",
    "The code below uses data for **2018**, but data are available through this year. You can select a different year by changing the year in the quotes below. <p> \n",
    "*Run the below code to identify the year of interest for making the plots. Note that the same year will be used to download observational data below*"
   ]
  },
  {
   "cell_type": "code",
   "execution_count": null,
   "metadata": {},
   "outputs": [],
   "source": [
    "#Specify the year below\n",
    "year = \"2018\"\n",
    "\n",
    "#Reading in the tower site selected above as a python variable\n",
    "neon_site = os.environ['site']"
   ]
  },
  {
   "cell_type": "markdown",
   "metadata": {},
   "source": [
    "<h5>1.2.3 Load model data files</h5>\n",
    "\n",
    "For reading the netCDF files, we are using the `xarray` Python package. You can learn more about [xarray on this website](http://xarray.pydata.org/en/stable/).\n",
    "\n",
    "The variable `sim_path` points to the location where simulation data are stored. *If you changed the simulation location in the above code, please also update this path.*\n",
    "\n",
    "*Run the code below to load the model data files. Note that the code will print how many files were loaded*"
   ]
  },
  {
   "cell_type": "code",
   "execution_count": null,
   "metadata": {},
   "outputs": [],
   "source": [
    "sim_path = \"/home/user/archive/\"+neon_site+\".transient/lnd/hist/\"\n",
    "sim_files = sorted(glob(join(sim_path,neon_site+\".transient.clm2.h1.\"+year+\"*.nc\")))\n",
    "\n",
    "print(\"All Simulation files: [\", len(sim_files), \"files]\")\n",
    "#print(*sim_files,sep='\\n')"
   ]
  },
  {
   "cell_type": "markdown",
   "metadata": {},
   "source": [
    "<h5> 1.2.4 Open model data files </h5>\n",
    "\n",
    "Here we use the python function `xarray.open_mfdataset`, which opens multiple netcdf files as a single xarray dataset. For more information on this function, check [this link](\n",
    "http://xarray.pydata.org/en/stable/generated/xarray.open_mfdataset.html).\n",
    "\n",
    "*Run the below cell to read in the data files. Note that this step might take a few minutes.*"
   ]
  },
  {
   "cell_type": "code",
   "execution_count": null,
   "metadata": {},
   "outputs": [],
   "source": [
    "start = time.time()\n",
    "\n",
    "ds_ctsm = xr.open_mfdataset(sim_files, decode_times=True, combine='by_coords',parallel=True)\n",
    "\n",
    "end = time.time()\n",
    "print(\"Reading all simulation files took:\", end-start, \"s.\")\n"
   ]
  },
  {
   "cell_type": "markdown",
   "metadata": {},
   "source": [
    "<h5> 1.2.5 Optional Step: Explore simulation data </h5>\n",
    "\n",
    "*Run the below cell to find more information about the data*"
   ]
  },
  {
   "cell_type": "code",
   "execution_count": null,
   "metadata": {},
   "outputs": [],
   "source": [
    "ds_ctsm"
   ]
  },
  {
   "cell_type": "markdown",
   "metadata": {},
   "source": [
    "Here you can click on `Data Variables`, `Attributes`, `Deminsions`, and `coordinates` to expand and see the details. \n",
    "\n",
    "If you click on `Data Variables`, you will see a list of all the available variables. You can click on each variable to see a description of the variable (the `long_name`) and its `units`, as well as other information. Here are two questions to consider:\n",
    "\n",
    "**Questions to consider** \n",
    "1. What are the avaibale variables in the dataset?\n",
    "2. What is the `long_name` and `unit` of the variable `FSH`? \n",
    "3. Can you find the dimensions of this variable? \n",
    "\n",
    "**Tip**: Xarray has built-in plotting functions. For quick inspection of a variable, we can use `.plot()` to see it. Below, let's make a quick plot of the Gross Primary Production (`GPP`) variable:"
   ]
  },
  {
   "cell_type": "code",
   "execution_count": null,
   "metadata": {},
   "outputs": [],
   "source": [
    "ds_ctsm['GPP'].plot()"
   ]
  },
  {
   "cell_type": "markdown",
   "metadata": {},
   "source": [
    "________\n",
    "<h2> 2. Explore NEON Tower Observation Data </h2>\n",
    "\n",
    "<h4> 2.1 Load NEON data </h4>\n",
    "    \n",
    "The following code will download the NEON observational data files for the site and year specified above. \n",
    "\n",
    "*Run the two cells of code below. You will see what files are available.*"
   ]
  },
  {
   "cell_type": "code",
   "execution_count": null,
   "metadata": {},
   "outputs": [],
   "source": [
    "eval_dir = \"/home/user/evaluation_files/\"\n",
    "\n",
    "download_eval_files(neon_site, eval_dir)\n",
    "\n",
    "eval_path = os.path.join('/home/user/evaluation_files/',neon_site)\n",
    "\n",
    "eval_files = sorted(glob(join(eval_path,neon_site+\"_eval_\"+year+\"*.nc\")))\n",
    "\n",
    "print(\"All Observation files:\")\n",
    "print(*eval_files,sep='\\n')"
   ]
  },
  {
   "cell_type": "code",
   "execution_count": null,
   "metadata": {},
   "outputs": [],
   "source": [
    "start = time.time()\n",
    "\n",
    "ds_eval = xr.open_mfdataset(eval_files, decode_times=True, combine='by_coords')\n",
    "\n",
    "end = time.time()\n",
    "print(\"Reading all observation files took:\", end-start, \"s.\")"
   ]
  },
  {
   "cell_type": "markdown",
   "metadata": {},
   "source": [
    "<h4> 2.2 Optional Step: Explore NEON data </h4>"
   ]
  },
  {
   "cell_type": "markdown",
   "metadata": {},
   "source": [
    "Similar to above, you can explore NEON data by clicking to see details about the variables, coordinate, and attributes."
   ]
  },
  {
   "cell_type": "code",
   "execution_count": null,
   "metadata": {},
   "outputs": [],
   "source": [
    "ds_eval"
   ]
  },
  {
   "cell_type": "markdown",
   "metadata": {},
   "source": [
    "Let's quickly inspect the Net Radiation (`Rnet`) variable by making a simple plot:"
   ]
  },
  {
   "cell_type": "code",
   "execution_count": null,
   "metadata": {},
   "outputs": [],
   "source": [
    "ds_eval['Rnet'].plot()"
   ]
  },
  {
   "cell_type": "markdown",
   "metadata": {},
   "source": [
    "__________\n",
    "# 3. Compare CTSM and NEON latent heat flux data\n",
    "\n",
    "So far we read files of observational and model data. In this section we will compare observed and simulated **latent heat fluxes**. You can also explore other available variables with this code.\n",
    "***\n",
    "\n",
    "#### Format Data\n",
    "The next cell of code processes the data into a common format to make analysis easier. \n",
    "\n",
    "*Run the below cell of code*"
   ]
  },
  {
   "cell_type": "code",
   "execution_count": null,
   "metadata": {},
   "outputs": [],
   "source": [
    "#Negin will clean up this code a little bit\n",
    "\n",
    "#Convert CTSM data to a Pandas Dataframe for easier handling:\n",
    "plot_vars = ['FCEV', 'FCTR', 'FGEV']\n",
    "\n",
    "df_ctsm = pd.DataFrame({'time':ds_ctsm.time})\n",
    "\n",
    "for var in plot_vars:\n",
    "    field = np.ravel ( ds_ctsm[var])     \n",
    "    df_ctsm[var]=field\n",
    "\n",
    "#Convert NEON data to a Pandas Dataframe for easier handling:\n",
    "eval_vars = ['EFLX_LH_TOT']\n",
    "\n",
    "df_eval = pd.DataFrame({'time':ds_eval.time})\n",
    "\n",
    "for var in eval_vars:\n",
    "    field = np.ravel ( ds_eval[var])     \n",
    "    df_eval[var]=field\n",
    "\n",
    "#-- extract year, month, day, hour information from time\n",
    "df_eval['year'] = df_eval['time'].dt.year\n",
    "df_eval['month'] = df_eval['time'].dt.month\n",
    "df_eval['day'] = df_eval['time'].dt.day\n",
    "df_eval['hour'] = df_eval['time'].dt.hour\n",
    "\n",
    "#-- make df_all that includes both obs and sim\n",
    "df_all = df_eval\n",
    "\n",
    "#-- add simulation data to df_all and adjust for offset time dimension:\n",
    "for var in plot_vars:\n",
    "    sim_var_name = \"sim_\"+var\n",
    "    #-- shift simulation data by one\n",
    "    df_all[sim_var_name]=df_ctsm[var].shift(-1).values"
   ]
  },
  {
   "cell_type": "markdown",
   "metadata": {},
   "source": [
    "## 3.1 What is latent heat flux?\n",
    "\n",
    "Below we explore how well CTSM simulates latent heat flux, which is directly observed at NEON towers. Latent heat flux is the energy for water evaporation from the ecosystem. Latent heat flux is a combination of plant transpiration, evaporation from leaf surfaces (e.g., from dew, after precipitation events), and evaporation from the soil:\n",
    "\n",
    "$$ Latent Heat Flux = Transpiration + Canopy Evaporation + Ground Evaporation $$\n",
    "\n",
    "Although NEON towers cannot distinguish how much each of these processes contributes to latent heat flux, CTSM simulations can help us to disentangle the role of each. "
   ]
  },
  {
   "cell_type": "markdown",
   "metadata": {},
   "source": [
    "First we will calculate latent heat flux simulated by CTSM by summing the component fluxes in the above equation. The CTSM variables are:\n",
    "\n",
    ">$FCEV$: Canopy evaporation (W m<sup>-2</sup>) <br>\n",
    ">$FCTR$: Canopy transpiration (W m<sup>-2</sup>) <br>\n",
    ">$FGEV$: Ground evaporation (W m<sup>-2</sup>) <br>\n",
    "\n",
    "*Run the below cell to calculate simulated latent heat flux*"
   ]
  },
  {
   "cell_type": "code",
   "execution_count": null,
   "metadata": {},
   "outputs": [],
   "source": [
    "clm_var = 'sim_EFLX_LH_TOT'\n",
    "\n",
    "#EFLX_LH_TOT = FCEV + FCTR +FGEV\n",
    "df_all [clm_var] = df_ctsm['FCEV'].shift(-1).values \\\n",
    "                 + df_ctsm['FCTR'].shift(-1).values \\\n",
    "                 + df_ctsm['FGEV'].shift(-1).values"
   ]
  },
  {
   "cell_type": "markdown",
   "metadata": {},
   "source": [
    "## 3.2 Plotting latent heat flux"
   ]
  },
  {
   "cell_type": "markdown",
   "metadata": {},
   "source": [
    "### 3.2.1 Plotting Daily Timeseries\n",
    "First we will create a time-series plot comparing daily average latent heat flux from observation (NEON) and simulations (CTSM). To start, we need calculate the daily averages. \n",
    "\n",
    "*Run the below cells of code to calculate daily averages*"
   ]
  },
  {
   "cell_type": "code",
   "execution_count": null,
   "metadata": {},
   "outputs": [],
   "source": [
    "df_daily = df_all.groupby(['year','month','day']).mean().reset_index()\n",
    "df_daily['time']=pd.to_datetime(df_daily[[\"year\", \"month\", \"day\"]])"
   ]
  },
  {
   "cell_type": "code",
   "execution_count": null,
   "metadata": {},
   "outputs": [],
   "source": [
    "plot_var = 'EFLX_LH_TOT'\n",
    "sim_var = 'sim_'+plot_var\n",
    "\n",
    "plot_var_desc = \"Latent Heat Flux\"\n",
    "plot_var_unit= \"Wm-2\""
   ]
  },
  {
   "cell_type": "markdown",
   "metadata": {},
   "source": [
    "Using the daily averages we calculated, we can create a plot using Python's [matplotlib package:](https://matplotlib.org/)\n",
    "\n",
    "*Run the below cell to create the plot*"
   ]
  },
  {
   "cell_type": "code",
   "execution_count": null,
   "metadata": {},
   "outputs": [],
   "source": [
    "plt.figure(num=None, figsize=(13, 5),  facecolor='w', edgecolor='k')\n",
    "        \n",
    "ax = plt.gca()\n",
    "df_daily.plot ( x= 'time', y = plot_var , marker = 'o' ,ax =ax , color = 'b',label=\"NEON\")\n",
    "df_daily.plot ( x= 'time', y = 'sim_'+plot_var , marker = 'o' ,ax =ax , color = 'r',label=\"CLM\")\n",
    "\n",
    "plt.xlabel('Time', fontsize=17)\n",
    "plt.ylabel(plot_var_desc+\" [\"+plot_var_unit+\"]\", fontsize=17)\n",
    "plt.title(year+\" \"+neon_site, fontweight='bold',fontsize=17)\n",
    "plt.show()\n",
    "plt.savefig(\"2018_ABBY_TSeries_Daily_Ave_V2.png\")\n",
    "\n",
    "#plt.savefig(year+\"_\"+neon_site+\"_TSeries_Daily_Ave_V2.png\")\n",
    "##TO DO: Update the file name to use the site name. Does above line work? "
   ]
  },
  {
   "cell_type": "markdown",
   "metadata": {},
   "source": [
    "Looking at variability gives us an indication of when and where simulations are outside the range of observed values. Let's explore variability by adding the daily standard deviation as a shaded area to the plot:"
   ]
  },
  {
   "cell_type": "code",
   "execution_count": null,
   "metadata": {},
   "outputs": [],
   "source": [
    "df_daily_std = df_all.groupby(['year','month','day']).std().reset_index()\n",
    "df_daily_std['time'] = pd.to_datetime(df_daily_std[[\"year\", \"month\", \"day\"]])\n",
    "\n",
    "plt.figure(num=None, figsize=(13, 5),  facecolor='w', edgecolor='k')\n",
    "\n",
    "plt.plot ( df_daily.time, df_daily[plot_var], marker = 'o' , color = 'b',label=\"NEON\")\n",
    "plt.plot ( df_daily.time, df_daily[sim_var], marker = 'o' , color = 'r',label=\"CLM\")\n",
    "\n",
    "plt.fill_between(df_daily.time, df_daily.EFLX_LH_TOT-df_daily_std.EFLX_LH_TOT, df_daily.EFLX_LH_TOT+df_daily_std.EFLX_LH_TOT ,alpha=0.1, color = 'b')\n",
    "plt.fill_between(df_daily.time, df_daily.sim_EFLX_LH_TOT-df_daily_std.sim_EFLX_LH_TOT, df_daily.sim_EFLX_LH_TOT+df_daily_std.sim_EFLX_LH_TOT ,alpha=0.1, color = 'r')\n",
    "\n",
    "plt.legend()\n",
    "plt.xlabel('Time', fontsize=17)\n",
    "plt.ylabel(plot_var_desc+\" [\"+plot_var_unit+\"]\", fontsize=17)\n",
    "plt.title(year+\" \"+neon_site, fontweight='bold',fontsize=17)\n",
    "plt.show()\n",
    "plt.savefig(\"2018_ABBY_TSeriesShaded_Daily_Ave_V2.png\")"
   ]
  },
  {
   "cell_type": "markdown",
   "metadata": {},
   "source": [
    "This allows us to see when CTSM under-predicts or over-predicts the NEON tower observations.\n",
    "\n",
    "#### **Questions to consider:**\n",
    "\n",
    "1. When is the latent heat hlux highest at this site? When is it lowest? <br>\n",
    "1. Does CLM match NEON tower observations? <br>\n",
    "1. What times of year does CLM shows the best and worst performance in predicting latent heat flux ? <br>"
   ]
  },
  {
   "cell_type": "markdown",
   "metadata": {},
   "source": [
    "*****\n",
    "### 3.2.2 Plotting Monthly Averages & Component Fluxes: Absolute Values\n",
    "\n",
    "Next we will disentangle whether transpiration, canopy evaporation, or ground evaporation is the dominant contribution to latent heat flux during each month using CTSM data. As mentioned in section 3.1, NEON observations cannot distinguish how much each of these processes contributes to latent heat fluxes. \n",
    "\n",
    "*Run the cell below to calculate monthly averages*"
   ]
  },
  {
   "cell_type": "code",
   "execution_count": null,
   "metadata": {},
   "outputs": [],
   "source": [
    "df_monthly = df_all.groupby(['year','month']).mean().reset_index()\n",
    "df_monthly[\"day\"]=15\n",
    "df_monthly['time']=pd.to_datetime(df_monthly[[\"year\", \"month\",\"day\"]])\n"
   ]
  },
  {
   "cell_type": "markdown",
   "metadata": {},
   "source": [
    "##### Next we will create a stacked bar chart showing components of latent heat flux over different months\n",
    "\n",
    "*Run the cell below to create the plot*"
   ]
  },
  {
   "cell_type": "code",
   "execution_count": null,
   "metadata": {},
   "outputs": [],
   "source": [
    "def line_format(label):\n",
    "    \"\"\"\n",
    "    Helper function to convert time label to the format of pandas line plot\n",
    "    \"\"\"\n",
    "    month = label.month_name()[:3]\n",
    "    if month == 'Jan':\n",
    "        month += f'\\n{label.year}'\n",
    "    return month\n",
    "\n",
    "\n",
    "plt.figure(num=None, figsize=(13, 5),  facecolor='w', edgecolor='k')\n",
    "        \n",
    "ax = plt.gca()\n",
    "\n",
    "df_monthly.plot ( x= 'time', y = 'EFLX_LH_TOT' , marker = 'o' ,ax =ax , color = 'black',label=\"NEON Latent Heat Flux\",use_index=False)\n",
    "df_monthly[['time','sim_FCEV','sim_FCTR','sim_FGEV']].plot.bar ( x= 'time',stacked='True',ax=ax,rot=0)\n",
    "\n",
    "ax.set_xticklabels(map(line_format, df_monthly.time))\n",
    "\n",
    "plt.xlabel('Time', fontsize=18)\n",
    "plt.ylabel('Latent Heat Flux', fontsize=16)\n",
    "        \n",
    "plt.title(year+\" \"+neon_site, fontweight='bold')\n",
    "plt.show()"
   ]
  },
  {
   "cell_type": "markdown",
   "metadata": {},
   "source": [
    "The monthly averages of NEON latent heat flux observation are plotted as a line on top of the barplot for reference.\n",
    "\n",
    "#### **Questions to consider:**\n",
    "\n",
    "1. Which months does CTSM overestimate and underestimate observed latent heat fluxes for this site? \n",
    "1. What times of year is Canopy Transpiration (FCTV) the largest contributor to the total CTSM latent heat flux?\n",
    "1. What times of year are Canopy Evaporation (FCEV) and Ground Evaporation (FGEV) important contributors to the total CTSM latent heat flux? \n",
    "1. What is the dominant component flux when CTSM overestimates observed latent heat fluxes? When CTSM underestimates latent heat fluxes?\n",
    "****"
   ]
  },
  {
   "cell_type": "markdown",
   "metadata": {},
   "source": [
    "### 3.2.3 Plotting Monthly Averages & Component Fluxes: Proportional Contributions\n",
    "It might be easier to see the proportional contributions of transpiration and evaporation fluxes to total latent heat flux. We can look at a more advanced plot with two y axis that helps to illustrate the absolute values of monthly latent heat fluxes and the proportion of component fluxes each month. "
   ]
  },
  {
   "cell_type": "code",
   "execution_count": null,
   "metadata": {},
   "outputs": [],
   "source": [
    "df_monthly ['sim_FCEV_perc']= df_monthly ['sim_FCEV']/(df_monthly ['sim_FCEV']+df_monthly ['sim_FCTR']+df_monthly ['sim_FGEV'])*100\n",
    "df_monthly ['sim_FCTR_perc']= df_monthly ['sim_FCTR']/(df_monthly ['sim_FCEV']+df_monthly ['sim_FCTR']+df_monthly ['sim_FGEV'])*100\n",
    "df_monthly ['sim_FGEV_perc']= df_monthly ['sim_FGEV']/(df_monthly ['sim_FCEV']+df_monthly ['sim_FCTR']+df_monthly ['sim_FGEV'])*100\n",
    "\n",
    "plt.figure(num=None, figsize=(13, 7),  facecolor='w', edgecolor='k')\n",
    "        \n",
    "ax = plt.gca()\n",
    "\n",
    "#df_monthly.plot ( x= 'time', y = 'EFLX_LH_TOT' , marker = 'o' ,ax =ax , color = 'black',label=\"NEON EFLX_LH_TOT\",use_index=False)\n",
    "df_monthly[['time','sim_FCEV_perc','sim_FCTR_perc','sim_FGEV_perc']].plot.bar ( x= 'time',stacked='True',ax=ax,rot=0)\n",
    "\n",
    "ax.set_xticklabels(map(line_format, df_monthly.time))\n",
    "ax.set_ylabel('% Components Latent Heat Flux', fontsize=16)\n",
    "ax.legend(bbox_to_anchor=(1.04,0), loc=\"lower left\",labels=[\"% FCEV\",\"% FCTR\",\"% FGEV\"])\n",
    "ax2 = ax.twinx()\n",
    "df_monthly.plot ( x= 'time', y = 'sim_EFLX_LH_TOT' , marker = 'o' ,ax =ax2 , color = 'b',label=\"CLM Latent Heat\",use_index=False)\n",
    "df_monthly.plot ( x= 'time', y = 'EFLX_LH_TOT' , marker = 'o' ,ax =ax2 , color = 'r',label=\"NEON Latent Heat\",use_index=False)\n",
    "\n",
    "plt.ylabel('Latent Heat Flux [W/m2]', fontsize=16)\n",
    "plt.legend(bbox_to_anchor=(1.04,1), loc=\"upper left\")\n",
    "\n",
    "plt.title(year+\" \"+neon_site, fontweight='bold')\n",
    "plt.show()"
   ]
  },
  {
   "cell_type": "markdown",
   "metadata": {},
   "source": [
    "______________"
   ]
  },
  {
   "cell_type": "markdown",
   "metadata": {},
   "source": [
    "### 3.2.4 Scatter Plots\n",
    "For better quantifying and describing the performance of CLM simulation and compare it with NEON observation, we can also utilize scatter plots.\n",
    "\n",
    "First, let's define a generic function that plot scatter diagrams and add a regression line on top of it. "
   ]
  },
  {
   "cell_type": "code",
   "execution_count": null,
   "metadata": {},
   "outputs": [],
   "source": [
    "def detailed_scatter (x, y, color):\n",
    "    plt.scatter (x,y, marker=\"o\",color = color)\n",
    "    slope, intercept, r_value, p_value, std_err = stats.linregress(x,y)\n",
    "    line = slope*x+intercept\n",
    "    plt.plot(x,line,'black', label='y={:.2f}x+{:.2f}'.format(slope,intercept)+\" (R2=\"+\"{:.2f}\".format(r_value)+\")\")\n",
    "    plt.legend(fontsize=13)"
   ]
  },
  {
   "cell_type": "code",
   "execution_count": null,
   "metadata": {},
   "outputs": [],
   "source": [
    "plt.figure(num=None, figsize=(15, 5),  facecolor='w', edgecolor='k')\n",
    "\n",
    "plt.subplot(1, 3, 1)\n",
    "detailed_scatter (df_daily.sim_FCEV, df_daily.sim_EFLX_LH_TOT, '#1f77b4')\n",
    "plt.ylabel('Latent Heat [Wm-2]')\n",
    "plt.xlabel('Canopy Evaporation [Wm-2]')\n",
    "\n",
    "plt.subplot(1, 3, 2)\n",
    "detailed_scatter (df_daily.sim_FCTR, df_daily.sim_EFLX_LH_TOT, '#ff7f0e')\n",
    "\n",
    "plt.ylabel('Latent Heat [Wm-2]')\n",
    "plt.xlabel('Canopy Transpiration [Wm-2]')\n",
    "\n",
    "plt.subplot(1, 3, 3)\n",
    "detailed_scatter (df_daily.sim_FGEV, df_daily.sim_EFLX_LH_TOT,'#2ca02c')\n",
    "\n",
    "plt.ylabel('Latent Heat [Wm-2]')\n",
    "plt.xlabel('Ground Evaporation [Wm-2]')\n",
    "\n",
    "plt.suptitle(year+\" \"+neon_site+\" Scatter Plots\", fontweight='bold')\n",
    "\n",
    "plt.tight_layout()\n",
    "plt.show()"
   ]
  },
  {
   "cell_type": "code",
   "execution_count": null,
   "metadata": {},
   "outputs": [],
   "source": []
  },
  {
   "cell_type": "markdown",
   "metadata": {},
   "source": [
    "Similarly, we can create these plots for different seasons:"
   ]
  },
  {
   "cell_type": "code",
   "execution_count": null,
   "metadata": {},
   "outputs": [],
   "source": [
    "df_daily['season'] = ((df_daily['month']%12+3)//3).map({1:'DJF', 2: 'MAM', 3:'JJA', 4:'SON'})\n"
   ]
  },
  {
   "cell_type": "code",
   "execution_count": null,
   "metadata": {},
   "outputs": [],
   "source": [
    "\n",
    "fig= plt.figure(num=None, figsize=(18,12),  facecolor='w', edgecolor='k')\n",
    "\n",
    "season = 'MAM'\n",
    "df_season =  df_daily[df_daily['season']==season]\n",
    "\n",
    "plt.subplot(3, 4, 1)\n",
    "detailed_scatter (df_season.sim_FCEV, df_season.sim_EFLX_LH_TOT, '#1f77b4')\n",
    "plt.title(season, fontweight='bold')\n",
    "plt.ylabel('Latent Heat [Wm-2]')\n",
    "plt.xlabel('Canopy Evaporation [Wm-2]')\n",
    "\n",
    "plt.subplot(3, 4, 5)\n",
    "detailed_scatter (df_season.sim_FCTR, df_season.sim_EFLX_LH_TOT, '#ff7f0e')\n",
    "plt.ylabel('Latent Heat [Wm-2]')\n",
    "plt.xlabel('Canopy Transpiration [Wm-2]')\n",
    "\n",
    "\n",
    "plt.subplot(3, 4, 9)\n",
    "detailed_scatter (df_season.sim_FGEV, df_season.sim_EFLX_LH_TOT,'#2ca02c')\n",
    "plt.ylabel('Latent Heat [Wm-2]')\n",
    "plt.xlabel('Ground Evaporation [Wm-2]')\n",
    "\n",
    "\n",
    "season = 'JJA'\n",
    "df_season =  df_daily[df_daily['season']==season]\n",
    "\n",
    "plt.subplot(3, 4, 2)\n",
    "detailed_scatter (df_season.sim_FCEV, df_season.sim_EFLX_LH_TOT, '#1f77b4')\n",
    "plt.title(season, fontweight='bold')\n",
    "plt.ylabel('Latent Heat [Wm-2]')\n",
    "plt.xlabel('Canopy Evaporation [Wm-2]')\n",
    "\n",
    "plt.subplot(3, 4, 6)\n",
    "detailed_scatter (df_season.sim_FCTR, df_season.sim_EFLX_LH_TOT, '#ff7f0e')\n",
    "plt.ylabel('Latent Heat [Wm-2]')\n",
    "plt.xlabel('Canopy Transpiration [Wm-2]')\n",
    "\n",
    "plt.subplot(3, 4, 10)\n",
    "detailed_scatter (df_season.sim_FGEV, df_season.sim_EFLX_LH_TOT,'#2ca02c')\n",
    "plt.ylabel('Latent Heat [Wm-2]')\n",
    "plt.xlabel('Ground Evaporation [Wm-2]')\n",
    "\n",
    "\n",
    "season = 'SON'\n",
    "df_season =  df_daily[df_daily['season']==season]\n",
    "\n",
    "plt.subplot(3, 4, 3)\n",
    "detailed_scatter (df_season.sim_FCEV, df_season.sim_EFLX_LH_TOT, '#1f77b4')\n",
    "plt.title(season, fontweight='bold')\n",
    "plt.ylabel('Latent Heat [Wm-2]')\n",
    "plt.xlabel('Canopy Evaporation [Wm-2]')\n",
    "\n",
    "plt.subplot(3, 4, 7)\n",
    "detailed_scatter (df_season.sim_FCTR, df_season.sim_EFLX_LH_TOT, '#ff7f0e')\n",
    "plt.ylabel('Latent Heat[Wm-2]')\n",
    "plt.xlabel('Canopy Transpiration [Wm-2]')\n",
    "\n",
    "plt.subplot(3, 4, 11)\n",
    "detailed_scatter (df_season.sim_FGEV, df_season.sim_EFLX_LH_TOT,'#2ca02c')\n",
    "plt.ylabel('Latent Heat [Wm-2]')\n",
    "plt.xlabel('Ground Evaporation [Wm-2]')\n",
    "\n",
    "season = 'DJF'\n",
    "df_season =  df_daily[df_daily['season']==season]\n",
    "\n",
    "plt.subplot(3, 4, 4)\n",
    "detailed_scatter (df_season.sim_FCEV, df_season.sim_EFLX_LH_TOT, '#1f77b4')\n",
    "plt.title(season, fontweight='bold')\n",
    "plt.ylabel('Latent Heat [Wm-2]')\n",
    "plt.xlabel('Canopy Evaporation [Wm-2]')\n",
    "\n",
    "plt.subplot(3, 4, 8)\n",
    "detailed_scatter (df_season.sim_FCTR, df_season.sim_EFLX_LH_TOT, '#ff7f0e')\n",
    "plt.ylabel('Latent Heat [Wm-2]')\n",
    "plt.xlabel('Canopy Transpiration [Wm-2]')\n",
    "\n",
    "plt.subplot(3, 4, 12)\n",
    "detailed_scatter (df_season.sim_FGEV, df_season.sim_EFLX_LH_TOT, '#2ca02c')\n",
    "plt.ylabel('Latent Heat [Wm-2]')\n",
    "plt.xlabel('Ground Evaporation [Wm-2]')\n",
    "\n",
    "fig.suptitle(year+\" \"+neon_site+ \" Seasonal Scatter Plots\", fontweight='bold')\n",
    "fig.tight_layout()\n",
    "\n",
    "plt.show()"
   ]
  },
  {
   "cell_type": "markdown",
   "metadata": {},
   "source": [
    "--------\n",
    "Now, let's take a look at how latent heat flux changes during the day. For this we should take a look at the diurnal cycle of the plots. \n",
    "\n",
    "For this we need to calculate the average of the same hour from different days. "
   ]
  },
  {
   "cell_type": "code",
   "execution_count": null,
   "metadata": {},
   "outputs": [],
   "source": [
    "diel_df_mean = df_all.groupby('hour').mean().reset_index()\n",
    "diel_df_std = df_all.groupby('hour').std().reset_index()\n",
    "\n",
    "diel_df_mean['EFLX_LH_TOT_bias'] = diel_df_mean['sim_EFLX_LH_TOT']- diel_df_mean['EFLX_LH_TOT']\n",
    "print (diel_df_mean)"
   ]
  },
  {
   "cell_type": "code",
   "execution_count": null,
   "metadata": {},
   "outputs": [],
   "source": [
    "plt.figure(num=None, figsize=(13, 9),  facecolor='w', edgecolor='k')\n",
    "        \n",
    "plt.subplot(2, 1, 1)  \n",
    "        \n",
    "plt.plot ( diel_df_mean.hour, diel_df_mean['EFLX_LH_TOT'], marker = 'o' , color = 'b',label=\"NEON\")\n",
    "plt.plot ( diel_df_mean.hour, diel_df_mean['sim_EFLX_LH_TOT'], marker = 'o' , color = 'r',label=\"CLM\")\n",
    "\n",
    "plt.fill_between(diel_df_mean.hour, diel_df_mean.EFLX_LH_TOT-diel_df_std.EFLX_LH_TOT, diel_df_mean.EFLX_LH_TOT+diel_df_std.EFLX_LH_TOT ,alpha=0.1, color = 'b')\n",
    "plt.fill_between(diel_df_mean.hour, diel_df_mean.sim_EFLX_LH_TOT-diel_df_std.sim_EFLX_LH_TOT, diel_df_mean.sim_EFLX_LH_TOT+diel_df_std.sim_EFLX_LH_TOT ,alpha=0.1, color = 'r')\n",
    "plt.ylabel('Latent Heat Flux [Wm-2]', fontsize=16)\n",
    "\n",
    "plt.title(\"Diurnal Cycle of Latent Heat Flux \"+neon_site+\" \"+year, fontweight='bold')\n",
    "plt.legend()\n",
    "plt.subplot(4, 1, 3)  \n",
    "\n",
    "ax = plt.gca()    \n",
    "diel_df_mean.plot ( x= 'hour', y = 'EFLX_LH_TOT_bias' , marker = 'o' ,ax =ax , color = 'black',label='Bias')\n",
    "plt.xlabel('Hour', fontsize=18)\n",
    "plt.ylabel('Bias', fontsize=16)\n",
    "plt.show()"
   ]
  },
  {
   "cell_type": "code",
   "execution_count": null,
   "metadata": {},
   "outputs": [],
   "source": [
    "diel_df_mean['sim_FCEV_perc']= diel_df_mean ['sim_FCEV']/(diel_df_mean ['sim_FCEV']+diel_df_mean ['sim_FCTR']+diel_df_mean ['sim_FGEV'])*100\n",
    "diel_df_mean ['sim_FCTR_perc']= diel_df_mean ['sim_FCTR']/(diel_df_mean ['sim_FCEV']+diel_df_mean ['sim_FCTR']+diel_df_mean ['sim_FGEV'])*100\n",
    "diel_df_mean ['sim_FGEV_perc']= diel_df_mean ['sim_FGEV']/(diel_df_mean ['sim_FCEV']+diel_df_mean ['sim_FCTR']+diel_df_mean ['sim_FGEV'])*100\n"
   ]
  },
  {
   "cell_type": "code",
   "execution_count": null,
   "metadata": {},
   "outputs": [],
   "source": [
    "from matplotlib import gridspec\n",
    "\n",
    "fig= plt.figure(num=None, figsize=(13, 10),  facecolor='w', edgecolor='k')\n",
    "\n",
    "gs = gridspec.GridSpec(3, 1, height_ratios=[3, 1, 2]) \n",
    "\n",
    "ax0 = plt.subplot(gs[0])\n",
    "        \n",
    "ax0.plot ( diel_df_mean.hour, diel_df_mean['EFLX_LH_TOT'], marker = 'o' , color = 'b',label=\"NEON\")\n",
    "ax0.plot ( diel_df_mean.hour, diel_df_mean['sim_EFLX_LH_TOT'], marker = 'o' , color = 'r',label=\"CLM\")\n",
    "\n",
    "ax0.fill_between(diel_df_mean.hour, diel_df_mean.EFLX_LH_TOT-diel_df_std.EFLX_LH_TOT, diel_df_mean.EFLX_LH_TOT+diel_df_std.EFLX_LH_TOT ,alpha=0.1, color = 'b')\n",
    "ax0.fill_between(diel_df_mean.hour, diel_df_mean.sim_EFLX_LH_TOT-diel_df_std.sim_EFLX_LH_TOT, diel_df_mean.sim_EFLX_LH_TOT+diel_df_std.sim_EFLX_LH_TOT ,alpha=0.1, color = 'r')\n",
    "plt.ylabel('Latent Heat Flux [Wm-2]', fontsize=16)\n",
    "plt.legend()\n",
    "plt.title(\"Diurnal Cycle of Latent Heat Flux \"+neon_site+\" \"+year, fontweight='bold')\n",
    "\n",
    "ax1 = plt.subplot(gs[1])\n",
    "diel_df_mean.plot ( x= 'hour', y = 'EFLX_LH_TOT_bias' , marker = 'o' ,ax =ax1 , color = 'black',label='Bias')\n",
    "plt.xlabel('', fontsize=18)\n",
    "plt.ylabel('Bias', fontsize=16)\n",
    "\n",
    "ax2 = plt.subplot(gs[2])\n",
    "diel_df_mean[['hour','sim_FCEV','sim_FCTR','sim_FGEV']].plot.bar ( x= 'hour',stacked='True',ax=ax2,rot=0)\n",
    "plt.ylabel('%Latent Heat Components', fontsize=16)\n",
    "plt.xlabel('Hour', fontsize=18)\n",
    "\n",
    "plt.tight_layout()\n",
    "\n",
    "fig.show()"
   ]
  },
  {
   "cell_type": "markdown",
   "metadata": {},
   "source": [
    "**Question: How does different components of LH Flux contributes to the total latent heat flux during the day?**"
   ]
  },
  {
   "cell_type": "markdown",
   "metadata": {},
   "source": [
    "___________________\n",
    "## Soil Profiles:\n",
    "\n",
    "Now, let's take a look at the soil profile ***** (Ask Danica)\n",
    "\n"
   ]
  },
  {
   "cell_type": "code",
   "execution_count": null,
   "metadata": {},
   "outputs": [],
   "source": [
    "ds_ctsm.TSOI.isel(levgrnd=(slice(0,9))).plot(x=\"time\",yincrease=False, robust=True,cmap='YlOrRd',figsize=(15, 5))\n"
   ]
  },
  {
   "cell_type": "markdown",
   "metadata": {},
   "source": [
    "<br><br>Congratulations - you've walked through the basic steps of running a neon case and visualize it.  You're all set for some of the more advanced tutorials now. "
   ]
  },
  {
   "cell_type": "code",
   "execution_count": null,
   "metadata": {},
   "outputs": [],
   "source": []
  }
 ],
 "metadata": {
  "kernelspec": {
   "display_name": "Python [conda env:default] *",
   "language": "python",
   "name": "conda-env-default-py"
  },
  "language_info": {
   "codemirror_mode": {
    "name": "ipython",
    "version": 3
   },
   "file_extension": ".py",
   "mimetype": "text/x-python",
   "name": "python",
   "nbconvert_exporter": "python",
   "pygments_lexer": "ipython3",
   "version": "3.7.8"
  }
 },
 "nbformat": 4,
 "nbformat_minor": 4
}
